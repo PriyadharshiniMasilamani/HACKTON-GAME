{
 "cells": [
  {
   "cell_type": "markdown",
   "id": "76c97b06",
   "metadata": {},
   "source": [
    "<H1>HACKATHON DATA SET-POTENTIAL USER OF THE GAME</H1>"
   ]
  },
  {
   "cell_type": "code",
   "execution_count": 1,
   "id": "4e03a69f",
   "metadata": {},
   "outputs": [],
   "source": [
    "import numpy as np\n",
    "import pandas as pd\n",
    "import datetime\n",
    "import matplotlib.pyplot as plt\n",
    "import seaborn as sns\n",
    "from sklearn.model_selection import train_test_split"
   ]
  },
  {
   "cell_type": "code",
   "execution_count": 2,
   "id": "d6f49c76",
   "metadata": {},
   "outputs": [],
   "source": [
    "train=pd.read_csv(\"C:/Users/PRADEEP PRIYA/Downloads/hackathon train.csv\")\n",
    "test=pd.read_csv(\"C:/Users/PRADEEP PRIYA/Downloads/hackathon test.csv\")"
   ]
  },
  {
   "cell_type": "code",
   "execution_count": 3,
   "id": "5e9ac8c2",
   "metadata": {},
   "outputs": [
    {
     "data": {
      "text/plain": [
       "Index(['Name', 'Platform', 'Year_of_Release', 'Genre', 'Publisher', 'NA_Sales',\n",
       "       'EU_Sales', 'JP_Sales', 'Critic_Score', 'Critic_Count', 'User_Score',\n",
       "       'User_Count', 'Developer', 'Rating', 'Global_Sales'],\n",
       "      dtype='object')"
      ]
     },
     "execution_count": 3,
     "metadata": {},
     "output_type": "execute_result"
    }
   ],
   "source": [
    "train.columns"
   ]
  },
  {
   "cell_type": "code",
   "execution_count": 4,
   "id": "4195e423",
   "metadata": {},
   "outputs": [
    {
     "data": {
      "text/plain": [
       "Index(['Name', 'Platform', 'Year_of_Release', 'Genre', 'Publisher', 'NA_Sales',\n",
       "       'EU_Sales', 'JP_Sales', 'Critic_Score', 'Critic_Count', 'User_Score',\n",
       "       'User_Count', 'Developer', 'Rating'],\n",
       "      dtype='object')"
      ]
     },
     "execution_count": 4,
     "metadata": {},
     "output_type": "execute_result"
    }
   ],
   "source": [
    "test.columns"
   ]
  },
  {
   "cell_type": "markdown",
   "id": "c6825787",
   "metadata": {},
   "source": [
    "<H2>X VARIABLES</H2>"
   ]
  },
  {
   "cell_type": "code",
   "execution_count": 5,
   "id": "dc1372ed",
   "metadata": {},
   "outputs": [],
   "source": [
    "x_train=train.drop(\"Global_Sales\",axis=1)"
   ]
  },
  {
   "cell_type": "code",
   "execution_count": 6,
   "id": "1813874c",
   "metadata": {},
   "outputs": [],
   "source": [
    "x_test=test"
   ]
  },
  {
   "cell_type": "code",
   "execution_count": 7,
   "id": "efe11288",
   "metadata": {},
   "outputs": [],
   "source": [
    "data=pd.concat([x_train,x_test],ignore_index=True)"
   ]
  },
  {
   "cell_type": "code",
   "execution_count": 8,
   "id": "d7cf1b79",
   "metadata": {},
   "outputs": [
    {
     "data": {
      "text/plain": [
       "(16719, 14)"
      ]
     },
     "execution_count": 8,
     "metadata": {},
     "output_type": "execute_result"
    }
   ],
   "source": [
    "data.shape"
   ]
  },
  {
   "cell_type": "code",
   "execution_count": 9,
   "id": "cf952162",
   "metadata": {},
   "outputs": [
    {
     "name": "stdout",
     "output_type": "stream",
     "text": [
      "<class 'pandas.core.frame.DataFrame'>\n",
      "RangeIndex: 16719 entries, 0 to 16718\n",
      "Data columns (total 14 columns):\n",
      " #   Column           Non-Null Count  Dtype  \n",
      "---  ------           --------------  -----  \n",
      " 0   Name             16717 non-null  object \n",
      " 1   Platform         16719 non-null  object \n",
      " 2   Year_of_Release  16450 non-null  float64\n",
      " 3   Genre            16717 non-null  object \n",
      " 4   Publisher        16665 non-null  object \n",
      " 5   NA_Sales         16719 non-null  float64\n",
      " 6   EU_Sales         16719 non-null  float64\n",
      " 7   JP_Sales         16719 non-null  float64\n",
      " 8   Critic_Score     8137 non-null   float64\n",
      " 9   Critic_Count     8137 non-null   float64\n",
      " 10  User_Score       10015 non-null  object \n",
      " 11  User_Count       7590 non-null   float64\n",
      " 12  Developer        10096 non-null  object \n",
      " 13  Rating           9950 non-null   object \n",
      "dtypes: float64(7), object(7)\n",
      "memory usage: 1.8+ MB\n"
     ]
    }
   ],
   "source": [
    "data.info()"
   ]
  },
  {
   "cell_type": "markdown",
   "id": "6b51a873",
   "metadata": {},
   "source": [
    "# EDA"
   ]
  },
  {
   "cell_type": "code",
   "execution_count": 10,
   "id": "e2b825f8",
   "metadata": {},
   "outputs": [
    {
     "data": {
      "text/plain": [
       "Name                  2\n",
       "Platform              0\n",
       "Year_of_Release     269\n",
       "Genre                 2\n",
       "Publisher            54\n",
       "NA_Sales              0\n",
       "EU_Sales              0\n",
       "JP_Sales              0\n",
       "Critic_Score       8582\n",
       "Critic_Count       8582\n",
       "User_Score         6704\n",
       "User_Count         9129\n",
       "Developer          6623\n",
       "Rating             6769\n",
       "dtype: int64"
      ]
     },
     "execution_count": 10,
     "metadata": {},
     "output_type": "execute_result"
    }
   ],
   "source": [
    "data.isnull().sum()"
   ]
  },
  {
   "cell_type": "markdown",
   "id": "e77604d4",
   "metadata": {},
   "source": [
    "# NAME"
   ]
  },
  {
   "cell_type": "markdown",
   "id": "2d9664bd",
   "metadata": {},
   "source": [
    "<h3> Name have only 2 null values so drop the null values</h3>\n"
   ]
  },
  {
   "cell_type": "code",
   "execution_count": 11,
   "id": "716a78ce",
   "metadata": {},
   "outputs": [
    {
     "data": {
      "text/plain": [
       "2"
      ]
     },
     "execution_count": 11,
     "metadata": {},
     "output_type": "execute_result"
    }
   ],
   "source": [
    "data.Name.isnull().sum()"
   ]
  },
  {
   "cell_type": "code",
   "execution_count": 12,
   "id": "827a6090",
   "metadata": {},
   "outputs": [],
   "source": [
    "data.dropna(axis=0,subset=[\"Name\"],inplace=True)"
   ]
  },
  {
   "cell_type": "markdown",
   "id": "c29f29e9",
   "metadata": {},
   "source": [
    "# YEAR OF RELEASE"
   ]
  },
  {
   "cell_type": "markdown",
   "id": "b29fdbf8",
   "metadata": {},
   "source": [
    "<h3> Year of release is float data type so I convert the float to string</h4>\n",
    "<h4>1.I have replaced some of the year</h4>\n",
    "<h4>2.I filled the null values as \"unknown year\"</h4>"
   ]
  },
  {
   "cell_type": "code",
   "execution_count": 13,
   "id": "6d2c50ba",
   "metadata": {},
   "outputs": [],
   "source": [
    "data[\"Year_of_Release\"]=data[\"Year_of_Release\"].astype(str)"
   ]
  },
  {
   "cell_type": "code",
   "execution_count": 14,
   "id": "cbb0b98c",
   "metadata": {},
   "outputs": [],
   "source": [
    "data.Year_of_Release.replace([\"1980.0\",\"1981.0\"],\"1980-1981\",inplace=True)"
   ]
  },
  {
   "cell_type": "code",
   "execution_count": 15,
   "id": "c9fc4605",
   "metadata": {},
   "outputs": [],
   "source": [
    "data.Year_of_Release.replace([\"1982.0\",\"1983.0\"],\"1982-1983\",inplace=True)"
   ]
  },
  {
   "cell_type": "code",
   "execution_count": 16,
   "id": "1317d7b5",
   "metadata": {},
   "outputs": [],
   "source": [
    "data.Year_of_Release.replace([\"1984.0\",\"1985.0\"],\"1984-1905\",inplace=True)"
   ]
  },
  {
   "cell_type": "code",
   "execution_count": 17,
   "id": "c8ab9e81",
   "metadata": {},
   "outputs": [],
   "source": [
    "data.Year_of_Release.replace([\"1986.0\",\"1987.0\"],\"1986-1907\",inplace=True)"
   ]
  },
  {
   "cell_type": "code",
   "execution_count": 18,
   "id": "6d838456",
   "metadata": {},
   "outputs": [],
   "source": [
    "data.Year_of_Release.replace([\"1988.0\",\"1989.0\"],\"1988-1989\",inplace=True)"
   ]
  },
  {
   "cell_type": "code",
   "execution_count": 19,
   "id": "6ed5e3d6",
   "metadata": {},
   "outputs": [],
   "source": [
    "data.Year_of_Release.replace([\"1990.0\",\"1991.0\"],\"1990-1991\",inplace=True)"
   ]
  },
  {
   "cell_type": "code",
   "execution_count": 20,
   "id": "6abd2d80",
   "metadata": {},
   "outputs": [],
   "source": [
    "data.Year_of_Release.replace([\"1992.0\",\"1993.0\"],\"1992-1993\",inplace=True)"
   ]
  },
  {
   "cell_type": "code",
   "execution_count": 21,
   "id": "2469bfaa",
   "metadata": {},
   "outputs": [],
   "source": [
    "data.Year_of_Release.replace([\"1994.0\",\"1995.0\"],\"1994-1995\",inplace=True)"
   ]
  },
  {
   "cell_type": "code",
   "execution_count": 22,
   "id": "82865179",
   "metadata": {},
   "outputs": [],
   "source": [
    "data.Year_of_Release.replace([\"1996.0\",\"1997.0\"],\"1996-1997\",inplace=True)"
   ]
  },
  {
   "cell_type": "code",
   "execution_count": 23,
   "id": "6bc707fc",
   "metadata": {},
   "outputs": [],
   "source": [
    "data.Year_of_Release.replace([\"1998.0\",\"1999.0\"],\"1999-1991\",inplace=True)"
   ]
  },
  {
   "cell_type": "code",
   "execution_count": 24,
   "id": "30b31208",
   "metadata": {},
   "outputs": [],
   "source": [
    "data.Year_of_Release.replace([\"2000.0\",\"2001.0\"],\"2000-2001\",inplace=True)"
   ]
  },
  {
   "cell_type": "code",
   "execution_count": 25,
   "id": "a15edb78",
   "metadata": {},
   "outputs": [],
   "source": [
    "data.Year_of_Release.replace([\"2002.0\",\"2003.0\"],\"2002-2003\",inplace=True)"
   ]
  },
  {
   "cell_type": "code",
   "execution_count": 26,
   "id": "798f3d1d",
   "metadata": {},
   "outputs": [],
   "source": [
    "data.Year_of_Release.replace([\"2004.0\",\"2005.0\"],\"2004-2005\",inplace=True)"
   ]
  },
  {
   "cell_type": "code",
   "execution_count": 27,
   "id": "85bf322d",
   "metadata": {},
   "outputs": [],
   "source": [
    "data.Year_of_Release.replace([\"2006.0\",\"2007.0\"],\"2006-2017\",inplace=True)"
   ]
  },
  {
   "cell_type": "code",
   "execution_count": 28,
   "id": "bf5f94ef",
   "metadata": {},
   "outputs": [],
   "source": [
    "data.Year_of_Release.replace([\"2008.0\",\"2009.0\"],\"2008-2019\",inplace=True)"
   ]
  },
  {
   "cell_type": "code",
   "execution_count": 29,
   "id": "510f5c03",
   "metadata": {},
   "outputs": [],
   "source": [
    "data.Year_of_Release.replace([\"2010.0\",\"2011.0\"],\"2010-2011\",inplace=True)"
   ]
  },
  {
   "cell_type": "code",
   "execution_count": 30,
   "id": "39b4833d",
   "metadata": {},
   "outputs": [],
   "source": [
    "data.Year_of_Release.replace([\"2012.0\",\"2013.0\"],\"2012-2013\",inplace=True)"
   ]
  },
  {
   "cell_type": "code",
   "execution_count": 31,
   "id": "8f73cdb6",
   "metadata": {},
   "outputs": [],
   "source": [
    "data.Year_of_Release.replace([\"2014.0\",\"2015.0\"],\"2014-2015\",inplace=True)"
   ]
  },
  {
   "cell_type": "code",
   "execution_count": 32,
   "id": "13b1a206",
   "metadata": {},
   "outputs": [],
   "source": [
    "data.Year_of_Release.fillna(\"Unknown year\",inplace=True)"
   ]
  },
  {
   "cell_type": "markdown",
   "id": "124cd19e",
   "metadata": {},
   "source": [
    "# GENRE"
   ]
  },
  {
   "cell_type": "markdown",
   "id": "e37c097b",
   "metadata": {},
   "source": [
    "<h3>Actually genre have 2 null values but when I drop the null values of names,the null values of genre also cleared</h3>"
   ]
  },
  {
   "cell_type": "code",
   "execution_count": 33,
   "id": "a03b049a",
   "metadata": {},
   "outputs": [
    {
     "data": {
      "text/plain": [
       "0"
      ]
     },
     "execution_count": 33,
     "metadata": {},
     "output_type": "execute_result"
    }
   ],
   "source": [
    "data.Genre.isnull().sum()"
   ]
  },
  {
   "cell_type": "markdown",
   "id": "da544847",
   "metadata": {},
   "source": [
    "# PUBLISHER"
   ]
  },
  {
   "cell_type": "markdown",
   "id": "46229041",
   "metadata": {},
   "source": [
    "<h3>Publisher have null values </h3>\n",
    "<h4>1.I have filled all  null value of publisher by finding the publisher by names which is available in google</h4>\n"
   ]
  },
  {
   "cell_type": "code",
   "execution_count": 34,
   "id": "0ddec281",
   "metadata": {},
   "outputs": [
    {
     "data": {
      "text/plain": [
       "54"
      ]
     },
     "execution_count": 34,
     "metadata": {},
     "output_type": "execute_result"
    }
   ],
   "source": [
    "data.Publisher.isnull().sum()"
   ]
  },
  {
   "cell_type": "code",
   "execution_count": 35,
   "id": "03342b17",
   "metadata": {},
   "outputs": [
    {
     "data": {
      "text/plain": [
       "array(['Nintendo', 'Microsoft Game Studios', 'Take-Two Interactive',\n",
       "       'Sony Computer Entertainment', 'Activision', 'Ubisoft',\n",
       "       'Bethesda Softworks', 'Electronic Arts', 'Sega', 'SquareSoft',\n",
       "       'Atari', '505 Games', 'Capcom', 'GT Interactive',\n",
       "       'Konami Digital Entertainment', 'Square Enix',\n",
       "       'Sony Computer Entertainment Europe', 'Virgin Interactive',\n",
       "       'LucasArts', 'Warner Bros. Interactive Entertainment',\n",
       "       'Universal Interactive', 'Eidos Interactive', 'RedOctane',\n",
       "       'Vivendi Games', 'Enix Corporation', 'Namco Bandai Games',\n",
       "       'Palcom', 'Hasbro Interactive', 'THQ', 'Fox Interactive',\n",
       "       'Acclaim Entertainment', 'MTV Games', 'Disney Interactive Studios',\n",
       "       nan, 'Codemasters', 'Majesco Entertainment', 'Red Orb', 'Level 5',\n",
       "       'Arena Entertainment', 'Midway Games', 'JVC', 'Deep Silver',\n",
       "       'NCSoft', '989 Studios', 'UEP Systems', 'Parker Bros.', 'Maxis',\n",
       "       'Imagic', 'Tecmo Koei', 'ASCII Entertainment', 'Valve Software',\n",
       "       'Mindscape', 'Infogrames', 'Unknown', 'Square', 'Valve',\n",
       "       'Banpresto', 'Hello Games', 'D3Publisher', 'Activision Value',\n",
       "       'Oxygen Interactive', 'Red Storm Entertainment', 'Video System',\n",
       "       'Global Star', 'Gotham Games', 'Westwood Studios', 'GungHo',\n",
       "       'Crave Entertainment', 'Hudson Soft', 'Coleco',\n",
       "       'Rising Star Games', 'TDK Mediactive', 'ASC Games', 'Accolade',\n",
       "       'Zoo Games', 'Sony Online Entertainment', '3DO', 'Natsume', 'RTL',\n",
       "       'Alchemist', 'Black Label Games', 'SouthPeak Games',\n",
       "       'Focus Home Interactive', 'Ocean', 'Zoo Digital Publishing',\n",
       "       'Psygnosis', 'City Interactive', 'Empire Interactive', 'Success',\n",
       "       'Compile', 'Russel', 'Atlus', 'Mastertronic',\n",
       "       'Slightly Mad Studios', 'Taito', 'Agetec', 'Microprose', 'Play It',\n",
       "       'GSP', 'Tomy Corporation', 'Sammy Corporation', 'Koch Media',\n",
       "       'Game Factory', 'Titus', 'Marvelous Entertainment', 'Genki',\n",
       "       'Mojang', 'CTO SpA', 'TalonSoft', 'Crystal Dynamics', 'mixi, Inc',\n",
       "       'Pinnacle', 'SCi', 'Quelle', 'Rage Software', 'Ubisoft Annecy',\n",
       "       'Interplay', 'Scholastic Inc.', 'Mystique', 'ChunSoft',\n",
       "       'Square EA', '20th Century Fox Video Games',\n",
       "       'Hudson Entertainment', 'Men-A-Vision', 'Nobilis',\n",
       "       'Avanquest Software', 'Big Ben Interactive', 'Nordic Games',\n",
       "       'Touchstone', 'Spike', 'Nippon Ichi Software',\n",
       "       'Sony Computer Entertainment America', 'Jester Interactive',\n",
       "       'LEGO Media', 'Quest', 'Illusion Softworks', 'Tigervision',\n",
       "       'Rocket Company', 'Metro 3D', 'Mattel Interactive', 'IE Institute',\n",
       "       'Funbox Media', 'Rondomedia', 'Universal Gamex', 'Ghostlight',\n",
       "       'Wizard Video Games', 'BMG Interactive Entertainment', 'PQube',\n",
       "       'Trion Worlds', 'Xseed Games', 'Laguna', 'Takara',\n",
       "       'Ignition Entertainment', 'Kadokawa Shoten', 'Enterbrain',\n",
       "       'Imagineer', 'CPG Products', 'System 3 Arcade Software',\n",
       "       'Aruze Corp', 'Destineer', 'Gamebridge',\n",
       "       'Midas Interactive Entertainment', 'Jaleco', 'Answer Software',\n",
       "       'Pack In Soft', 'XS Games', 'Rebellion', 'Ultravision',\n",
       "       'Harmonix Music Systems', 'Activision Blizzard', 'Xplosiv',\n",
       "       'Wanadoo', 'Telltale Games', 'NovaLogic', 'Epoch',\n",
       "       'BAM! Entertainment', 'GameMill Entertainment',\n",
       "       'Knowledge Adventure', 'Tetris Online', 'Mastiff', 'ESP', 'TYO',\n",
       "       'Telegames', 'Mud Duck Productions', 'Screenlife', 'Pioneer LDC',\n",
       "       'Magical Company', 'Kemco', 'Mentor Interactive',\n",
       "       'Human Entertainment', 'Data Age', 'Electronic Arts Victor',\n",
       "       'Jack of All Games', 'Avanquest', 'Black Bean Games', '989 Sports',\n",
       "       'Takara Tomy', 'Media Rings', 'Elf', 'Starfish', 'Zushi Games',\n",
       "       'Jorudan', 'Destination Software, Inc', 'New',\n",
       "       'Brash Entertainment', 'Kalypso Media', 'ITT Family Games',\n",
       "       'Ackkstudios', 'PopCap Games', 'Starpath Corp.', 'BPS',\n",
       "       'Gathering of Developers', 'NewKidCo', 'Marvelous Interactive',\n",
       "       'Storm City Games', 'CokeM Interactive', 'P2 Games',\n",
       "       'CBS Electronics', 'Home Entertainment Suppliers', 'Magix',\n",
       "       'Arc System Works', 'Angel Studios', 'Wargaming.net', 'Playmates',\n",
       "       'SNK Playmore', 'Hamster Corporation', 'From Software',\n",
       "       'Nippon Columbia', 'Nichibutsu', 'Conspiracy Entertainment',\n",
       "       'Hect', 'Mumbo Jumbo', 'DTP Entertainment',\n",
       "       'Pacific Century Cyber Works', 'Indie Games', 'Liquid Games',\n",
       "       'NEC', 'Axela', 'ArtDink', 'Sunsoft', 'Little Orbit', 'FuRyu',\n",
       "       'Gust', 'SNK', 'NEC Interchannel', 'Nihon Falcom Corporation',\n",
       "       'Xing Entertainment', 'ValuSoft', 'Victor Interactive',\n",
       "       'American Softworks', 'Falcom Corporation', 'Detn8 Games', 'Bomb',\n",
       "       'Nordcurrent', 'Milestone S.r.l.', 'AQ Interactive', 'Sears',\n",
       "       'Seta Corporation', 'On Demand', 'CCP', 'NCS',\n",
       "       'Rebellion Developments', 'Agatsuma Entertainment',\n",
       "       'Gremlin Interactive Ltd', 'Aspyr', 'Compile Heart',\n",
       "       'Culture Brain', 'Mad Catz', 'Shogakukan', 'Merscom LLC',\n",
       "       'JoWood Productions', 'Nippon Telenet', 'TDK Core',\n",
       "       'Kadokawa Games', 'SSI', 'Foreign Media Games', 'Core Design Ltd.',\n",
       "       'bitComposer Games', 'Astragon', 'Asylum Entertainment',\n",
       "       'Performance Designed Products', 'UFO Interactive',\n",
       "       'Essential Games', 'Adeline Software', 'Funcom', 'PlayV',\n",
       "       'Panther Software', 'Blast! Entertainment Ltd',\n",
       "       'Playlogic Game Factory', 'DSI Games', 'Avalon Interactive',\n",
       "       'Game Life', 'Popcorn Arcade', 'Aques', 'System 3', 'Syscom',\n",
       "       'Vir2L Studios', 'Vatical Entertainment', 'Neko Entertainment',\n",
       "       'White Park Bay Software', 'Vic Tokai', 'Media Factory',\n",
       "       'Daedalic', 'Game Arts', 'The Adventure Company', 'EA Games',\n",
       "       'Acquire', 'Broccoli', 'General Entertainment',\n",
       "       'Paradox Interactive', 'Yacht Club Games', 'Imadio',\n",
       "       'Swing! Entertainment', 'Sony Music Entertainment', 'Aqua Plus',\n",
       "       'Excalibur Publishing', 'Hip Interactive', 'Tripwire Interactive',\n",
       "       'Bigben Interactive', 'Sting', 'Data East',\n",
       "       'Idea Factory International', 'Time Warner Interactive',\n",
       "       'Gainax Network Systems', 'Daito', 'O3 Entertainment', 'O-Games',\n",
       "       'Gameloft', 'Xicat Interactive', 'Simon & Schuster Interactive',\n",
       "       'Valcon Games', 'PopTop Software', 'TOHO', 'PM Studios',\n",
       "       'Bohemia Interactive', 'Reef Entertainment', '5pb',\n",
       "       'HMH Interactive', 'DreamCatcher Interactive',\n",
       "       'inXile Entertainment', 'Cave', 'Microids', 'Paon', 'Idea Factory',\n",
       "       'U.S. Gold', 'CDV Software Entertainment', 'Micro Cabin',\n",
       "       'GameTek', 'Benesse', 'Type-Moon', 'Enjoy Gaming ltd.', 'MTO',\n",
       "       'Asmik Corp', 'Interplay Productions', 'Asmik Ace Entertainment',\n",
       "       'Image Epoch', 'Phantom EFX', 'Evolved Games', 'responDESIGN',\n",
       "       'Data Design Interactive', 'Griffin International',\n",
       "       'Culture Publishers', 'Hackberry', 'HAL Laboratory', 'Aksys Games',\n",
       "       'Phenomedia', 'Grand Prix Games', 'Mercury Games', 'DigiCube',\n",
       "       'Creative Core', 'Gamecock', 'Kaga Create', 'Graffiti',\n",
       "       'WayForward Technologies', 'Pack-In-Video', 'LSP Games',\n",
       "       'ASCII Media Works', '1C Company', 'Coconuts Japan', 'Arika',\n",
       "       'Tivola', 'Marvel Entertainment', 'Ertain', 'Asgard', 'Prototype',\n",
       "       'Phantagram', 'The Learning Company', 'TechnoSoft', 'MLB.com',\n",
       "       'Irem Software Engineering', 'Vap', 'Misawa', 'Yeti',\n",
       "       'Dusenberry Martin Racing', 'Navarre Corp', 'Pow', 'MediaQuest',\n",
       "       'Team17 Software', 'Max Five', 'Tradewest', 'Happinet', 'Comfort',\n",
       "       'Milestone S.r.l', 'Pony Canyon', 'Riverhillsoft', 'Media Works',\n",
       "       'Summitsoft', 'Playmore', 'Kool Kizz', 'Monte Christo Multimedia',\n",
       "       'TopWare Interactive', 'Tommo', 'Slitherine Software',\n",
       "       'Legacy Interactive', 'Cloud Imperium Games Corporation',\n",
       "       'Flashpoint Games', 'Alternative Software',\n",
       "       'Ascaron Entertainment GmbH', 'CyberFront', 'Alawar Entertainment',\n",
       "       'Societa', 'DHM Interactive', 'Interchannel', 'Flight-Plan',\n",
       "       'Funsta', 'Experience Inc.', 'Sonnet', 'Virtual Play Games',\n",
       "       'Tru Blu Entertainment', 'Zenrin', 'Iceberg Interactive',\n",
       "       'Ivolgamus', 'MC2 Entertainment', '2D Boy', 'Games Workshop',\n",
       "       'Global A Entertainment', 'Kando Games', 'Office Create',\n",
       "       'Daedalic Entertainment', 'Maximum Family Games', 'Fields',\n",
       "       'Gearbox Software', 'Princess Soft', 'Extreme Entertainment Group',\n",
       "       'Big Fish Games', 'Berkeley', 'Mamba Games', 'Fuji',\n",
       "       'FuRyu Corporation', 'Her Interactive', 'imageepoch Inc.',\n",
       "       'Just Flight', 'Myelin Media', 'Kamui', 'ASK', 'Insomniac Games',\n",
       "       'Cygames', 'Introversion Software', '49Games', 'KSS',\n",
       "       'dramatic create', 'TGL', 'KID', 'Quinrose', 'Sold Out', 'Encore',\n",
       "       'G.Rev', 'Sunflowers', 'Headup Games', 'Sweets',\n",
       "       'Kokopeli Digital Studios', 'id Software', 'Nexon',\n",
       "       '10TACLE Studios', 'BushiRoad', 'Devolver Digital', 'Number None',\n",
       "       'Tryfirst', 'GN Software', \"Yuke's\", 'Strategy First',\n",
       "       'Lexicon Entertainment', 'Groove Games', 'Paon Corporation',\n",
       "       'Kids Station', 'Licensed 4U', 'Edia', 'GOA', '7G//AMES',\n",
       "       'King Records', 'Minato Station', 'Graphsim Entertainment',\n",
       "       'Easy Interactive', 'Gaga', 'Yamasa Entertainment', 'Plenty',\n",
       "       'Views', 'Blue Byte', 'fonfun', 'NetRevo', 'Epic Games', 'Quintet',\n",
       "       'Focus Multimedia', 'Phoenix Games', 'Marvelous Games', 'Dorart',\n",
       "       'Codemasters Online', 'Stainless Games', 'Athena', 'Aerosoft',\n",
       "       'Imageworks', 'Karin Entertainment', 'Technos Japan Corporation',\n",
       "       'Masque Publishing', 'Gakken', 'New World Computing',\n",
       "       'Sunrise Interactive', 'Mirai Shounen', 'Datam Polystar', 'HuneX',\n",
       "       'Revolution Software', 'Visco', 'Saurus', 'Revolution (Japan)',\n",
       "       'Giza10', 'Alvion', 'Giga', 'Mycom', 'Crimson Cow', 'Warashi',\n",
       "       'System Soft', 'RED Entertainment', 'Lighthouse Interactive',\n",
       "       'Michaelsoft', 'Media Entertainment', 'Genterprise',\n",
       "       'Interworks Unlimited, Inc.', 'Inti Creates', 'Boost On', 'Moss',\n",
       "       'EON Digital Entertainment', 'Nitroplus', 'Naxat Soft', 'Piacci',\n",
       "       'Paradox Development', 'Otomate', 'Ascaron Entertainment',\n",
       "       'Ongakukan', 'Commseed', 'UIG Entertainment', 'Takuyo',\n",
       "       'Interchannel-Holon', 'Red Flagship', 'SCS Software',\n",
       "       'Havas Interactive', 'Telstar', 'DreamWorks Interactive', 'Crytek',\n",
       "       'FunSoft', 'SPS', 'T&E Soft', 'NDA Productions', 'Hearty Robin',\n",
       "       'Nippon Amuse', 'Origin Systems', 'Seventh Chord', 'Abylight',\n",
       "       'Mitsui', 'Milestone', 'Glams', 'Locus', 'Warp', 'Elite',\n",
       "       'Evolution Games', 'Aria', 'Altron', 'Fortyfive', 'Imax', 'iWin',\n",
       "       'Ecole', 'Yumedia'], dtype=object)"
      ]
     },
     "execution_count": 35,
     "metadata": {},
     "output_type": "execute_result"
    }
   ],
   "source": [
    "data.Publisher.unique()"
   ]
  },
  {
   "cell_type": "code",
   "execution_count": 36,
   "id": "785d87fc",
   "metadata": {},
   "outputs": [
    {
     "data": {
      "text/html": [
       "<div>\n",
       "<style scoped>\n",
       "    .dataframe tbody tr th:only-of-type {\n",
       "        vertical-align: middle;\n",
       "    }\n",
       "\n",
       "    .dataframe tbody tr th {\n",
       "        vertical-align: top;\n",
       "    }\n",
       "\n",
       "    .dataframe thead th {\n",
       "        text-align: right;\n",
       "    }\n",
       "</style>\n",
       "<table border=\"1\" class=\"dataframe\">\n",
       "  <thead>\n",
       "    <tr style=\"text-align: right;\">\n",
       "      <th></th>\n",
       "      <th>Name</th>\n",
       "      <th>Platform</th>\n",
       "      <th>Year_of_Release</th>\n",
       "      <th>Genre</th>\n",
       "      <th>Publisher</th>\n",
       "      <th>NA_Sales</th>\n",
       "      <th>EU_Sales</th>\n",
       "      <th>JP_Sales</th>\n",
       "      <th>Critic_Score</th>\n",
       "      <th>Critic_Count</th>\n",
       "      <th>User_Score</th>\n",
       "      <th>User_Count</th>\n",
       "      <th>Developer</th>\n",
       "      <th>Rating</th>\n",
       "    </tr>\n",
       "  </thead>\n",
       "  <tbody>\n",
       "    <tr>\n",
       "      <th>475</th>\n",
       "      <td>wwe Smackdown vs. Raw 2006</td>\n",
       "      <td>PS2</td>\n",
       "      <td>nan</td>\n",
       "      <td>Fighting</td>\n",
       "      <td>NaN</td>\n",
       "      <td>1.57</td>\n",
       "      <td>1.02</td>\n",
       "      <td>0.00</td>\n",
       "      <td>NaN</td>\n",
       "      <td>NaN</td>\n",
       "      <td>NaN</td>\n",
       "      <td>NaN</td>\n",
       "      <td>NaN</td>\n",
       "      <td>NaN</td>\n",
       "    </tr>\n",
       "    <tr>\n",
       "      <th>1301</th>\n",
       "      <td>Triple Play 99</td>\n",
       "      <td>PS</td>\n",
       "      <td>nan</td>\n",
       "      <td>Sports</td>\n",
       "      <td>NaN</td>\n",
       "      <td>0.81</td>\n",
       "      <td>0.55</td>\n",
       "      <td>0.00</td>\n",
       "      <td>NaN</td>\n",
       "      <td>NaN</td>\n",
       "      <td>NaN</td>\n",
       "      <td>NaN</td>\n",
       "      <td>NaN</td>\n",
       "      <td>NaN</td>\n",
       "    </tr>\n",
       "    <tr>\n",
       "      <th>1667</th>\n",
       "      <td>Shrek / Shrek 2 2-in-1 Gameboy Advance Video</td>\n",
       "      <td>GBA</td>\n",
       "      <td>2006-2017</td>\n",
       "      <td>Misc</td>\n",
       "      <td>NaN</td>\n",
       "      <td>0.87</td>\n",
       "      <td>0.32</td>\n",
       "      <td>0.00</td>\n",
       "      <td>NaN</td>\n",
       "      <td>NaN</td>\n",
       "      <td>NaN</td>\n",
       "      <td>NaN</td>\n",
       "      <td>NaN</td>\n",
       "      <td>NaN</td>\n",
       "    </tr>\n",
       "    <tr>\n",
       "      <th>2212</th>\n",
       "      <td>Bentley's Hackpack</td>\n",
       "      <td>GBA</td>\n",
       "      <td>2004-2005</td>\n",
       "      <td>Misc</td>\n",
       "      <td>NaN</td>\n",
       "      <td>0.67</td>\n",
       "      <td>0.25</td>\n",
       "      <td>0.00</td>\n",
       "      <td>NaN</td>\n",
       "      <td>NaN</td>\n",
       "      <td>NaN</td>\n",
       "      <td>NaN</td>\n",
       "      <td>NaN</td>\n",
       "      <td>NaN</td>\n",
       "    </tr>\n",
       "    <tr>\n",
       "      <th>3148</th>\n",
       "      <td>Nicktoons Collection: Game Boy Advance Video V...</td>\n",
       "      <td>GBA</td>\n",
       "      <td>2004-2005</td>\n",
       "      <td>Misc</td>\n",
       "      <td>NaN</td>\n",
       "      <td>0.46</td>\n",
       "      <td>0.17</td>\n",
       "      <td>0.00</td>\n",
       "      <td>NaN</td>\n",
       "      <td>NaN</td>\n",
       "      <td>NaN</td>\n",
       "      <td>NaN</td>\n",
       "      <td>NaN</td>\n",
       "      <td>NaN</td>\n",
       "    </tr>\n",
       "    <tr>\n",
       "      <th>3159</th>\n",
       "      <td>SpongeBob SquarePants: Game Boy Advance Video ...</td>\n",
       "      <td>GBA</td>\n",
       "      <td>2004-2005</td>\n",
       "      <td>Misc</td>\n",
       "      <td>NaN</td>\n",
       "      <td>0.46</td>\n",
       "      <td>0.17</td>\n",
       "      <td>0.00</td>\n",
       "      <td>NaN</td>\n",
       "      <td>NaN</td>\n",
       "      <td>NaN</td>\n",
       "      <td>NaN</td>\n",
       "      <td>NaN</td>\n",
       "      <td>NaN</td>\n",
       "    </tr>\n",
       "    <tr>\n",
       "      <th>3755</th>\n",
       "      <td>SpongeBob SquarePants: Game Boy Advance Video ...</td>\n",
       "      <td>GBA</td>\n",
       "      <td>2004-2005</td>\n",
       "      <td>Misc</td>\n",
       "      <td>NaN</td>\n",
       "      <td>0.38</td>\n",
       "      <td>0.14</td>\n",
       "      <td>0.00</td>\n",
       "      <td>NaN</td>\n",
       "      <td>NaN</td>\n",
       "      <td>NaN</td>\n",
       "      <td>NaN</td>\n",
       "      <td>NaN</td>\n",
       "      <td>NaN</td>\n",
       "    </tr>\n",
       "    <tr>\n",
       "      <th>4127</th>\n",
       "      <td>Sonic the Hedgehog</td>\n",
       "      <td>PS3</td>\n",
       "      <td>nan</td>\n",
       "      <td>Platform</td>\n",
       "      <td>NaN</td>\n",
       "      <td>0.00</td>\n",
       "      <td>0.48</td>\n",
       "      <td>0.00</td>\n",
       "      <td>43.0</td>\n",
       "      <td>17.0</td>\n",
       "      <td>4.1</td>\n",
       "      <td>176.0</td>\n",
       "      <td>Sonic Team</td>\n",
       "      <td>E10+</td>\n",
       "    </tr>\n",
       "    <tr>\n",
       "      <th>4508</th>\n",
       "      <td>The Fairly Odd Parents: Game Boy Advance Video...</td>\n",
       "      <td>GBA</td>\n",
       "      <td>2004-2005</td>\n",
       "      <td>Misc</td>\n",
       "      <td>NaN</td>\n",
       "      <td>0.31</td>\n",
       "      <td>0.11</td>\n",
       "      <td>0.00</td>\n",
       "      <td>NaN</td>\n",
       "      <td>NaN</td>\n",
       "      <td>NaN</td>\n",
       "      <td>NaN</td>\n",
       "      <td>NaN</td>\n",
       "      <td>NaN</td>\n",
       "    </tr>\n",
       "    <tr>\n",
       "      <th>4615</th>\n",
       "      <td>The Fairly Odd Parents: Game Boy Advance Video...</td>\n",
       "      <td>GBA</td>\n",
       "      <td>2004-2005</td>\n",
       "      <td>Misc</td>\n",
       "      <td>NaN</td>\n",
       "      <td>0.30</td>\n",
       "      <td>0.11</td>\n",
       "      <td>0.00</td>\n",
       "      <td>NaN</td>\n",
       "      <td>NaN</td>\n",
       "      <td>NaN</td>\n",
       "      <td>NaN</td>\n",
       "      <td>NaN</td>\n",
       "      <td>NaN</td>\n",
       "    </tr>\n",
       "    <tr>\n",
       "      <th>5294</th>\n",
       "      <td>Dragon Ball Z: Budokai Tenkaichi 2 (JP sales)</td>\n",
       "      <td>Wii</td>\n",
       "      <td>nan</td>\n",
       "      <td>Action</td>\n",
       "      <td>NaN</td>\n",
       "      <td>0.15</td>\n",
       "      <td>0.05</td>\n",
       "      <td>0.14</td>\n",
       "      <td>NaN</td>\n",
       "      <td>NaN</td>\n",
       "      <td>NaN</td>\n",
       "      <td>NaN</td>\n",
       "      <td>NaN</td>\n",
       "      <td>NaN</td>\n",
       "    </tr>\n",
       "    <tr>\n",
       "      <th>5633</th>\n",
       "      <td>Cartoon Network Collection: Game Boy Advance V...</td>\n",
       "      <td>GBA</td>\n",
       "      <td>2004-2005</td>\n",
       "      <td>Misc</td>\n",
       "      <td>NaN</td>\n",
       "      <td>0.23</td>\n",
       "      <td>0.08</td>\n",
       "      <td>0.00</td>\n",
       "      <td>NaN</td>\n",
       "      <td>NaN</td>\n",
       "      <td>NaN</td>\n",
       "      <td>NaN</td>\n",
       "      <td>NaN</td>\n",
       "      <td>NaN</td>\n",
       "    </tr>\n",
       "    <tr>\n",
       "      <th>6256</th>\n",
       "      <td>The Legend of Zelda: The Minish Cap(weekly JP ...</td>\n",
       "      <td>GBA</td>\n",
       "      <td>nan</td>\n",
       "      <td>Action</td>\n",
       "      <td>NaN</td>\n",
       "      <td>0.00</td>\n",
       "      <td>0.00</td>\n",
       "      <td>0.27</td>\n",
       "      <td>NaN</td>\n",
       "      <td>NaN</td>\n",
       "      <td>NaN</td>\n",
       "      <td>NaN</td>\n",
       "      <td>NaN</td>\n",
       "      <td>NaN</td>\n",
       "    </tr>\n",
       "    <tr>\n",
       "      <th>6415</th>\n",
       "      <td>Sonic X: Game Boy Advance Video Volume 1</td>\n",
       "      <td>GBA</td>\n",
       "      <td>2004-2005</td>\n",
       "      <td>Misc</td>\n",
       "      <td>NaN</td>\n",
       "      <td>0.19</td>\n",
       "      <td>0.07</td>\n",
       "      <td>0.00</td>\n",
       "      <td>NaN</td>\n",
       "      <td>NaN</td>\n",
       "      <td>NaN</td>\n",
       "      <td>NaN</td>\n",
       "      <td>NaN</td>\n",
       "      <td>NaN</td>\n",
       "    </tr>\n",
       "    <tr>\n",
       "      <th>6532</th>\n",
       "      <td>Dora the Explorer: Game Boy Advance Video Volu...</td>\n",
       "      <td>GBA</td>\n",
       "      <td>2004-2005</td>\n",
       "      <td>Misc</td>\n",
       "      <td>NaN</td>\n",
       "      <td>0.18</td>\n",
       "      <td>0.07</td>\n",
       "      <td>0.00</td>\n",
       "      <td>NaN</td>\n",
       "      <td>NaN</td>\n",
       "      <td>NaN</td>\n",
       "      <td>NaN</td>\n",
       "      <td>NaN</td>\n",
       "      <td>NaN</td>\n",
       "    </tr>\n",
       "    <tr>\n",
       "      <th>6626</th>\n",
       "      <td>Cartoon Network Collection: Game Boy Advance V...</td>\n",
       "      <td>GBA</td>\n",
       "      <td>2004-2005</td>\n",
       "      <td>Misc</td>\n",
       "      <td>NaN</td>\n",
       "      <td>0.18</td>\n",
       "      <td>0.07</td>\n",
       "      <td>0.00</td>\n",
       "      <td>NaN</td>\n",
       "      <td>NaN</td>\n",
       "      <td>NaN</td>\n",
       "      <td>NaN</td>\n",
       "      <td>NaN</td>\n",
       "      <td>NaN</td>\n",
       "    </tr>\n",
       "    <tr>\n",
       "      <th>6831</th>\n",
       "      <td>All Grown Up!: Game Boy Advance Video Volume 1</td>\n",
       "      <td>GBA</td>\n",
       "      <td>2004-2005</td>\n",
       "      <td>Misc</td>\n",
       "      <td>NaN</td>\n",
       "      <td>0.17</td>\n",
       "      <td>0.06</td>\n",
       "      <td>0.00</td>\n",
       "      <td>NaN</td>\n",
       "      <td>NaN</td>\n",
       "      <td>NaN</td>\n",
       "      <td>NaN</td>\n",
       "      <td>NaN</td>\n",
       "      <td>NaN</td>\n",
       "    </tr>\n",
       "    <tr>\n",
       "      <th>7189</th>\n",
       "      <td>Nicktoons Collection: Game Boy Advance Video V...</td>\n",
       "      <td>GBA</td>\n",
       "      <td>2004-2005</td>\n",
       "      <td>Misc</td>\n",
       "      <td>NaN</td>\n",
       "      <td>0.16</td>\n",
       "      <td>0.06</td>\n",
       "      <td>0.00</td>\n",
       "      <td>NaN</td>\n",
       "      <td>NaN</td>\n",
       "      <td>NaN</td>\n",
       "      <td>NaN</td>\n",
       "      <td>NaN</td>\n",
       "      <td>NaN</td>\n",
       "    </tr>\n",
       "    <tr>\n",
       "      <th>7333</th>\n",
       "      <td>Yu Yu Hakusho: Dark Tournament</td>\n",
       "      <td>PS2</td>\n",
       "      <td>nan</td>\n",
       "      <td>Fighting</td>\n",
       "      <td>NaN</td>\n",
       "      <td>0.10</td>\n",
       "      <td>0.08</td>\n",
       "      <td>0.00</td>\n",
       "      <td>56.0</td>\n",
       "      <td>15.0</td>\n",
       "      <td>8.5</td>\n",
       "      <td>18.0</td>\n",
       "      <td>Digital Fiction</td>\n",
       "      <td>T</td>\n",
       "    </tr>\n",
       "    <tr>\n",
       "      <th>7477</th>\n",
       "      <td>SpongeBob SquarePants: Game Boy Advance Video ...</td>\n",
       "      <td>GBA</td>\n",
       "      <td>2004-2005</td>\n",
       "      <td>Misc</td>\n",
       "      <td>NaN</td>\n",
       "      <td>0.15</td>\n",
       "      <td>0.05</td>\n",
       "      <td>0.00</td>\n",
       "      <td>NaN</td>\n",
       "      <td>NaN</td>\n",
       "      <td>NaN</td>\n",
       "      <td>NaN</td>\n",
       "      <td>NaN</td>\n",
       "      <td>NaN</td>\n",
       "    </tr>\n",
       "    <tr>\n",
       "      <th>7930</th>\n",
       "      <td>Thomas the Tank Engine &amp; Friends</td>\n",
       "      <td>GBA</td>\n",
       "      <td>2004-2005</td>\n",
       "      <td>Adventure</td>\n",
       "      <td>NaN</td>\n",
       "      <td>0.13</td>\n",
       "      <td>0.05</td>\n",
       "      <td>0.00</td>\n",
       "      <td>NaN</td>\n",
       "      <td>NaN</td>\n",
       "      <td>NaN</td>\n",
       "      <td>NaN</td>\n",
       "      <td>NaN</td>\n",
       "      <td>NaN</td>\n",
       "    </tr>\n",
       "    <tr>\n",
       "      <th>8317</th>\n",
       "      <td>Dragon Ball GT: Game Boy Advance Video Volume 1</td>\n",
       "      <td>GBA</td>\n",
       "      <td>2004-2005</td>\n",
       "      <td>Misc</td>\n",
       "      <td>NaN</td>\n",
       "      <td>0.12</td>\n",
       "      <td>0.05</td>\n",
       "      <td>0.00</td>\n",
       "      <td>NaN</td>\n",
       "      <td>NaN</td>\n",
       "      <td>NaN</td>\n",
       "      <td>NaN</td>\n",
       "      <td>NaN</td>\n",
       "      <td>NaN</td>\n",
       "    </tr>\n",
       "    <tr>\n",
       "      <th>8328</th>\n",
       "      <td>Codename: Kids Next Door: Game Boy Advance Vid...</td>\n",
       "      <td>GBA</td>\n",
       "      <td>2004-2005</td>\n",
       "      <td>Misc</td>\n",
       "      <td>NaN</td>\n",
       "      <td>0.12</td>\n",
       "      <td>0.05</td>\n",
       "      <td>0.00</td>\n",
       "      <td>NaN</td>\n",
       "      <td>NaN</td>\n",
       "      <td>NaN</td>\n",
       "      <td>NaN</td>\n",
       "      <td>NaN</td>\n",
       "      <td>NaN</td>\n",
       "    </tr>\n",
       "    <tr>\n",
       "      <th>8358</th>\n",
       "      <td>Teenage Mutant Ninja Turtles: Game Boy Advance...</td>\n",
       "      <td>GBA</td>\n",
       "      <td>2004-2005</td>\n",
       "      <td>Misc</td>\n",
       "      <td>NaN</td>\n",
       "      <td>0.12</td>\n",
       "      <td>0.04</td>\n",
       "      <td>0.00</td>\n",
       "      <td>NaN</td>\n",
       "      <td>NaN</td>\n",
       "      <td>NaN</td>\n",
       "      <td>NaN</td>\n",
       "      <td>NaN</td>\n",
       "      <td>NaN</td>\n",
       "    </tr>\n",
       "    <tr>\n",
       "      <th>8494</th>\n",
       "      <td>Stronghold 3</td>\n",
       "      <td>PC</td>\n",
       "      <td>2010-2011</td>\n",
       "      <td>Strategy</td>\n",
       "      <td>NaN</td>\n",
       "      <td>0.06</td>\n",
       "      <td>0.10</td>\n",
       "      <td>0.00</td>\n",
       "      <td>47.0</td>\n",
       "      <td>29.0</td>\n",
       "      <td>3</td>\n",
       "      <td>350.0</td>\n",
       "      <td>FireFly Studios</td>\n",
       "      <td>T</td>\n",
       "    </tr>\n",
       "    <tr>\n",
       "      <th>8754</th>\n",
       "      <td>Cartoon Network Collection: Game Boy Advance V...</td>\n",
       "      <td>GBA</td>\n",
       "      <td>2004-2005</td>\n",
       "      <td>Misc</td>\n",
       "      <td>NaN</td>\n",
       "      <td>0.11</td>\n",
       "      <td>0.04</td>\n",
       "      <td>0.00</td>\n",
       "      <td>NaN</td>\n",
       "      <td>NaN</td>\n",
       "      <td>NaN</td>\n",
       "      <td>NaN</td>\n",
       "      <td>NaN</td>\n",
       "      <td>NaN</td>\n",
       "    </tr>\n",
       "    <tr>\n",
       "      <th>8837</th>\n",
       "      <td>Pokémon: Johto Photo Finish: Game Boy Advance ...</td>\n",
       "      <td>GBA</td>\n",
       "      <td>2004-2005</td>\n",
       "      <td>Misc</td>\n",
       "      <td>NaN</td>\n",
       "      <td>0.11</td>\n",
       "      <td>0.04</td>\n",
       "      <td>0.00</td>\n",
       "      <td>NaN</td>\n",
       "      <td>NaN</td>\n",
       "      <td>NaN</td>\n",
       "      <td>NaN</td>\n",
       "      <td>NaN</td>\n",
       "      <td>NaN</td>\n",
       "    </tr>\n",
       "    <tr>\n",
       "      <th>8883</th>\n",
       "      <td>Strawberry Shortcake: Game Boy Advance Video V...</td>\n",
       "      <td>GBA</td>\n",
       "      <td>2004-2005</td>\n",
       "      <td>Misc</td>\n",
       "      <td>NaN</td>\n",
       "      <td>0.11</td>\n",
       "      <td>0.04</td>\n",
       "      <td>0.00</td>\n",
       "      <td>NaN</td>\n",
       "      <td>NaN</td>\n",
       "      <td>NaN</td>\n",
       "      <td>NaN</td>\n",
       "      <td>NaN</td>\n",
       "      <td>NaN</td>\n",
       "    </tr>\n",
       "    <tr>\n",
       "      <th>9703</th>\n",
       "      <td>Disney Channel Collection Vol. 1</td>\n",
       "      <td>GBA</td>\n",
       "      <td>2004-2005</td>\n",
       "      <td>Misc</td>\n",
       "      <td>NaN</td>\n",
       "      <td>0.08</td>\n",
       "      <td>0.03</td>\n",
       "      <td>0.00</td>\n",
       "      <td>NaN</td>\n",
       "      <td>NaN</td>\n",
       "      <td>NaN</td>\n",
       "      <td>NaN</td>\n",
       "      <td>NaN</td>\n",
       "      <td>NaN</td>\n",
       "    </tr>\n",
       "    <tr>\n",
       "      <th>9812</th>\n",
       "      <td>Atsumare! Power Pro Kun no DS Koushien</td>\n",
       "      <td>DS</td>\n",
       "      <td>nan</td>\n",
       "      <td>Sports</td>\n",
       "      <td>NaN</td>\n",
       "      <td>0.00</td>\n",
       "      <td>0.00</td>\n",
       "      <td>0.10</td>\n",
       "      <td>NaN</td>\n",
       "      <td>NaN</td>\n",
       "      <td>NaN</td>\n",
       "      <td>NaN</td>\n",
       "      <td>NaN</td>\n",
       "      <td>NaN</td>\n",
       "    </tr>\n",
       "    <tr>\n",
       "      <th>10418</th>\n",
       "      <td>Action Man-Operation Extreme</td>\n",
       "      <td>PS</td>\n",
       "      <td>nan</td>\n",
       "      <td>Action</td>\n",
       "      <td>NaN</td>\n",
       "      <td>0.05</td>\n",
       "      <td>0.03</td>\n",
       "      <td>0.00</td>\n",
       "      <td>NaN</td>\n",
       "      <td>NaN</td>\n",
       "      <td>NaN</td>\n",
       "      <td>NaN</td>\n",
       "      <td>NaN</td>\n",
       "      <td>NaN</td>\n",
       "    </tr>\n",
       "    <tr>\n",
       "      <th>11175</th>\n",
       "      <td>Monster Hunter Frontier Online</td>\n",
       "      <td>PS3</td>\n",
       "      <td>nan</td>\n",
       "      <td>Role-Playing</td>\n",
       "      <td>NaN</td>\n",
       "      <td>0.00</td>\n",
       "      <td>0.00</td>\n",
       "      <td>0.05</td>\n",
       "      <td>NaN</td>\n",
       "      <td>NaN</td>\n",
       "      <td>NaN</td>\n",
       "      <td>NaN</td>\n",
       "      <td>NaN</td>\n",
       "      <td>NaN</td>\n",
       "    </tr>\n",
       "    <tr>\n",
       "      <th>11569</th>\n",
       "      <td>B.L.U.E.: Legend of Water</td>\n",
       "      <td>PS</td>\n",
       "      <td>nan</td>\n",
       "      <td>Adventure</td>\n",
       "      <td>NaN</td>\n",
       "      <td>0.00</td>\n",
       "      <td>0.00</td>\n",
       "      <td>0.04</td>\n",
       "      <td>NaN</td>\n",
       "      <td>NaN</td>\n",
       "      <td>NaN</td>\n",
       "      <td>NaN</td>\n",
       "      <td>NaN</td>\n",
       "      <td>NaN</td>\n",
       "    </tr>\n",
       "    <tr>\n",
       "      <th>11985</th>\n",
       "      <td>Housekeeping</td>\n",
       "      <td>DS</td>\n",
       "      <td>nan</td>\n",
       "      <td>Action</td>\n",
       "      <td>NaN</td>\n",
       "      <td>0.00</td>\n",
       "      <td>0.00</td>\n",
       "      <td>0.04</td>\n",
       "      <td>NaN</td>\n",
       "      <td>NaN</td>\n",
       "      <td>NaN</td>\n",
       "      <td>NaN</td>\n",
       "      <td>NaN</td>\n",
       "      <td>NaN</td>\n",
       "    </tr>\n",
       "    <tr>\n",
       "      <th>12209</th>\n",
       "      <td>Bikkuriman Daijiten</td>\n",
       "      <td>DS</td>\n",
       "      <td>nan</td>\n",
       "      <td>Misc</td>\n",
       "      <td>NaN</td>\n",
       "      <td>0.00</td>\n",
       "      <td>0.00</td>\n",
       "      <td>0.03</td>\n",
       "      <td>NaN</td>\n",
       "      <td>NaN</td>\n",
       "      <td>NaN</td>\n",
       "      <td>NaN</td>\n",
       "      <td>NaN</td>\n",
       "      <td>NaN</td>\n",
       "    </tr>\n",
       "    <tr>\n",
       "      <th>12544</th>\n",
       "      <td>World of Tanks</td>\n",
       "      <td>X360</td>\n",
       "      <td>nan</td>\n",
       "      <td>Shooter</td>\n",
       "      <td>NaN</td>\n",
       "      <td>0.00</td>\n",
       "      <td>0.03</td>\n",
       "      <td>0.00</td>\n",
       "      <td>NaN</td>\n",
       "      <td>NaN</td>\n",
       "      <td>5.2</td>\n",
       "      <td>9.0</td>\n",
       "      <td>Microsoft Game Studios</td>\n",
       "      <td>NaN</td>\n",
       "    </tr>\n",
       "    <tr>\n",
       "      <th>12629</th>\n",
       "      <td>UK Truck Simulator</td>\n",
       "      <td>PC</td>\n",
       "      <td>2010-2011</td>\n",
       "      <td>Simulation</td>\n",
       "      <td>NaN</td>\n",
       "      <td>0.00</td>\n",
       "      <td>0.03</td>\n",
       "      <td>0.00</td>\n",
       "      <td>NaN</td>\n",
       "      <td>NaN</td>\n",
       "      <td>NaN</td>\n",
       "      <td>NaN</td>\n",
       "      <td>NaN</td>\n",
       "      <td>NaN</td>\n",
       "    </tr>\n",
       "    <tr>\n",
       "      <th>12881</th>\n",
       "      <td>Umineko no Naku Koro ni San: Shinjitsu to Gens...</td>\n",
       "      <td>PS3</td>\n",
       "      <td>nan</td>\n",
       "      <td>Adventure</td>\n",
       "      <td>NaN</td>\n",
       "      <td>0.00</td>\n",
       "      <td>0.00</td>\n",
       "      <td>0.02</td>\n",
       "      <td>NaN</td>\n",
       "      <td>NaN</td>\n",
       "      <td>NaN</td>\n",
       "      <td>NaN</td>\n",
       "      <td>NaN</td>\n",
       "      <td>NaN</td>\n",
       "    </tr>\n",
       "    <tr>\n",
       "      <th>13197</th>\n",
       "      <td>Mario Tennis</td>\n",
       "      <td>3DS</td>\n",
       "      <td>nan</td>\n",
       "      <td>Sports</td>\n",
       "      <td>NaN</td>\n",
       "      <td>0.00</td>\n",
       "      <td>0.00</td>\n",
       "      <td>0.02</td>\n",
       "      <td>NaN</td>\n",
       "      <td>NaN</td>\n",
       "      <td>NaN</td>\n",
       "      <td>NaN</td>\n",
       "      <td>NaN</td>\n",
       "      <td>NaN</td>\n",
       "    </tr>\n",
       "    <tr>\n",
       "      <th>13274</th>\n",
       "      <td>Nicktoons Collection: Game Boy Advance Video V...</td>\n",
       "      <td>GBA</td>\n",
       "      <td>2004-2005</td>\n",
       "      <td>Misc</td>\n",
       "      <td>NaN</td>\n",
       "      <td>0.01</td>\n",
       "      <td>0.01</td>\n",
       "      <td>0.00</td>\n",
       "      <td>NaN</td>\n",
       "      <td>NaN</td>\n",
       "      <td>NaN</td>\n",
       "      <td>NaN</td>\n",
       "      <td>NaN</td>\n",
       "      <td>NaN</td>\n",
       "    </tr>\n",
       "    <tr>\n",
       "      <th>13299</th>\n",
       "      <td>Demolition Company: Gold Edition</td>\n",
       "      <td>PC</td>\n",
       "      <td>2010-2011</td>\n",
       "      <td>Simulation</td>\n",
       "      <td>NaN</td>\n",
       "      <td>0.00</td>\n",
       "      <td>0.02</td>\n",
       "      <td>0.00</td>\n",
       "      <td>NaN</td>\n",
       "      <td>NaN</td>\n",
       "      <td>tbd</td>\n",
       "      <td>NaN</td>\n",
       "      <td>Giants Software</td>\n",
       "      <td>NaN</td>\n",
       "    </tr>\n",
       "    <tr>\n",
       "      <th>13537</th>\n",
       "      <td>Moshi, Kono Sekai ni Kami-sama ga Iru to suru ...</td>\n",
       "      <td>PSV</td>\n",
       "      <td>2016.0</td>\n",
       "      <td>Adventure</td>\n",
       "      <td>NaN</td>\n",
       "      <td>0.00</td>\n",
       "      <td>0.00</td>\n",
       "      <td>0.02</td>\n",
       "      <td>NaN</td>\n",
       "      <td>NaN</td>\n",
       "      <td>NaN</td>\n",
       "      <td>NaN</td>\n",
       "      <td>NaN</td>\n",
       "      <td>NaN</td>\n",
       "    </tr>\n",
       "    <tr>\n",
       "      <th>13876</th>\n",
       "      <td>Dream Dancer</td>\n",
       "      <td>DS</td>\n",
       "      <td>nan</td>\n",
       "      <td>Misc</td>\n",
       "      <td>NaN</td>\n",
       "      <td>0.01</td>\n",
       "      <td>0.00</td>\n",
       "      <td>0.00</td>\n",
       "      <td>NaN</td>\n",
       "      <td>NaN</td>\n",
       "      <td>tbd</td>\n",
       "      <td>NaN</td>\n",
       "      <td>CyberPlanet Interactive Public Co., Ltd.</td>\n",
       "      <td>E</td>\n",
       "    </tr>\n",
       "    <tr>\n",
       "      <th>14137</th>\n",
       "      <td>Homeworld Remastered Collection</td>\n",
       "      <td>PC</td>\n",
       "      <td>nan</td>\n",
       "      <td>Strategy</td>\n",
       "      <td>NaN</td>\n",
       "      <td>0.00</td>\n",
       "      <td>0.01</td>\n",
       "      <td>0.00</td>\n",
       "      <td>86.0</td>\n",
       "      <td>49.0</td>\n",
       "      <td>8.2</td>\n",
       "      <td>324.0</td>\n",
       "      <td>Gearbox Software</td>\n",
       "      <td>E10+</td>\n",
       "    </tr>\n",
       "    <tr>\n",
       "      <th>14153</th>\n",
       "      <td>AKB1/48: Idol to Guam de Koishitara...</td>\n",
       "      <td>X360</td>\n",
       "      <td>nan</td>\n",
       "      <td>Misc</td>\n",
       "      <td>NaN</td>\n",
       "      <td>0.00</td>\n",
       "      <td>0.00</td>\n",
       "      <td>0.01</td>\n",
       "      <td>NaN</td>\n",
       "      <td>NaN</td>\n",
       "      <td>NaN</td>\n",
       "      <td>NaN</td>\n",
       "      <td>NaN</td>\n",
       "      <td>NaN</td>\n",
       "    </tr>\n",
       "    <tr>\n",
       "      <th>14163</th>\n",
       "      <td>Super Robot Monkey Team: Game Boy Advance Vide...</td>\n",
       "      <td>GBA</td>\n",
       "      <td>2004-2005</td>\n",
       "      <td>Misc</td>\n",
       "      <td>NaN</td>\n",
       "      <td>0.01</td>\n",
       "      <td>0.00</td>\n",
       "      <td>0.00</td>\n",
       "      <td>NaN</td>\n",
       "      <td>NaN</td>\n",
       "      <td>NaN</td>\n",
       "      <td>NaN</td>\n",
       "      <td>NaN</td>\n",
       "      <td>NaN</td>\n",
       "    </tr>\n",
       "    <tr>\n",
       "      <th>14189</th>\n",
       "      <td>Brothers in Arms: Furious 4</td>\n",
       "      <td>X360</td>\n",
       "      <td>nan</td>\n",
       "      <td>Shooter</td>\n",
       "      <td>NaN</td>\n",
       "      <td>0.01</td>\n",
       "      <td>0.00</td>\n",
       "      <td>0.00</td>\n",
       "      <td>NaN</td>\n",
       "      <td>NaN</td>\n",
       "      <td>NaN</td>\n",
       "      <td>NaN</td>\n",
       "      <td>Gearbox Software</td>\n",
       "      <td>M</td>\n",
       "    </tr>\n",
       "    <tr>\n",
       "      <th>14196</th>\n",
       "      <td>Dance with Devils</td>\n",
       "      <td>PSV</td>\n",
       "      <td>2016.0</td>\n",
       "      <td>Action</td>\n",
       "      <td>NaN</td>\n",
       "      <td>0.00</td>\n",
       "      <td>0.00</td>\n",
       "      <td>0.01</td>\n",
       "      <td>NaN</td>\n",
       "      <td>NaN</td>\n",
       "      <td>NaN</td>\n",
       "      <td>NaN</td>\n",
       "      <td>NaN</td>\n",
       "      <td>NaN</td>\n",
       "    </tr>\n",
       "    <tr>\n",
       "      <th>14519</th>\n",
       "      <td>Driving Simulator 2011</td>\n",
       "      <td>PC</td>\n",
       "      <td>2010-2011</td>\n",
       "      <td>Racing</td>\n",
       "      <td>NaN</td>\n",
       "      <td>0.00</td>\n",
       "      <td>0.01</td>\n",
       "      <td>0.00</td>\n",
       "      <td>NaN</td>\n",
       "      <td>NaN</td>\n",
       "      <td>NaN</td>\n",
       "      <td>NaN</td>\n",
       "      <td>NaN</td>\n",
       "      <td>NaN</td>\n",
       "    </tr>\n",
       "    <tr>\n",
       "      <th>14747</th>\n",
       "      <td>Farming Simulator 2011</td>\n",
       "      <td>PC</td>\n",
       "      <td>2010-2011</td>\n",
       "      <td>Simulation</td>\n",
       "      <td>NaN</td>\n",
       "      <td>0.00</td>\n",
       "      <td>0.13</td>\n",
       "      <td>0.00</td>\n",
       "      <td>NaN</td>\n",
       "      <td>NaN</td>\n",
       "      <td>7</td>\n",
       "      <td>23.0</td>\n",
       "      <td>Giants Software</td>\n",
       "      <td>E</td>\n",
       "    </tr>\n",
       "    <tr>\n",
       "      <th>14975</th>\n",
       "      <td>Super Robot Wars OG Saga: Masou Kishin II - Re...</td>\n",
       "      <td>PSP</td>\n",
       "      <td>nan</td>\n",
       "      <td>Strategy</td>\n",
       "      <td>NaN</td>\n",
       "      <td>0.00</td>\n",
       "      <td>0.00</td>\n",
       "      <td>0.12</td>\n",
       "      <td>NaN</td>\n",
       "      <td>NaN</td>\n",
       "      <td>NaN</td>\n",
       "      <td>NaN</td>\n",
       "      <td>NaN</td>\n",
       "      <td>NaN</td>\n",
       "    </tr>\n",
       "    <tr>\n",
       "      <th>15621</th>\n",
       "      <td>Cartoon Network Collection: Game Boy Advance V...</td>\n",
       "      <td>GBA</td>\n",
       "      <td>2004-2005</td>\n",
       "      <td>Misc</td>\n",
       "      <td>NaN</td>\n",
       "      <td>0.06</td>\n",
       "      <td>0.02</td>\n",
       "      <td>0.00</td>\n",
       "      <td>NaN</td>\n",
       "      <td>NaN</td>\n",
       "      <td>NaN</td>\n",
       "      <td>NaN</td>\n",
       "      <td>NaN</td>\n",
       "      <td>NaN</td>\n",
       "    </tr>\n",
       "    <tr>\n",
       "      <th>16600</th>\n",
       "      <td>Chou Soujuu Mecha MG</td>\n",
       "      <td>DS</td>\n",
       "      <td>nan</td>\n",
       "      <td>Simulation</td>\n",
       "      <td>NaN</td>\n",
       "      <td>0.00</td>\n",
       "      <td>0.00</td>\n",
       "      <td>0.06</td>\n",
       "      <td>NaN</td>\n",
       "      <td>NaN</td>\n",
       "      <td>NaN</td>\n",
       "      <td>NaN</td>\n",
       "      <td>NaN</td>\n",
       "      <td>NaN</td>\n",
       "    </tr>\n",
       "    <tr>\n",
       "      <th>16644</th>\n",
       "      <td>Prinny: Can I Really Be The Hero? (US sales)</td>\n",
       "      <td>PSP</td>\n",
       "      <td>nan</td>\n",
       "      <td>Action</td>\n",
       "      <td>NaN</td>\n",
       "      <td>0.06</td>\n",
       "      <td>0.00</td>\n",
       "      <td>0.00</td>\n",
       "      <td>NaN</td>\n",
       "      <td>NaN</td>\n",
       "      <td>NaN</td>\n",
       "      <td>NaN</td>\n",
       "      <td>NaN</td>\n",
       "      <td>NaN</td>\n",
       "    </tr>\n",
       "  </tbody>\n",
       "</table>\n",
       "</div>"
      ],
      "text/plain": [
       "                                                    Name Platform  \\\n",
       "475                           wwe Smackdown vs. Raw 2006      PS2   \n",
       "1301                                      Triple Play 99       PS   \n",
       "1667        Shrek / Shrek 2 2-in-1 Gameboy Advance Video      GBA   \n",
       "2212                                  Bentley's Hackpack      GBA   \n",
       "3148   Nicktoons Collection: Game Boy Advance Video V...      GBA   \n",
       "3159   SpongeBob SquarePants: Game Boy Advance Video ...      GBA   \n",
       "3755   SpongeBob SquarePants: Game Boy Advance Video ...      GBA   \n",
       "4127                                  Sonic the Hedgehog      PS3   \n",
       "4508   The Fairly Odd Parents: Game Boy Advance Video...      GBA   \n",
       "4615   The Fairly Odd Parents: Game Boy Advance Video...      GBA   \n",
       "5294       Dragon Ball Z: Budokai Tenkaichi 2 (JP sales)      Wii   \n",
       "5633   Cartoon Network Collection: Game Boy Advance V...      GBA   \n",
       "6256   The Legend of Zelda: The Minish Cap(weekly JP ...      GBA   \n",
       "6415            Sonic X: Game Boy Advance Video Volume 1      GBA   \n",
       "6532   Dora the Explorer: Game Boy Advance Video Volu...      GBA   \n",
       "6626   Cartoon Network Collection: Game Boy Advance V...      GBA   \n",
       "6831      All Grown Up!: Game Boy Advance Video Volume 1      GBA   \n",
       "7189   Nicktoons Collection: Game Boy Advance Video V...      GBA   \n",
       "7333                      Yu Yu Hakusho: Dark Tournament      PS2   \n",
       "7477   SpongeBob SquarePants: Game Boy Advance Video ...      GBA   \n",
       "7930                    Thomas the Tank Engine & Friends      GBA   \n",
       "8317     Dragon Ball GT: Game Boy Advance Video Volume 1      GBA   \n",
       "8328   Codename: Kids Next Door: Game Boy Advance Vid...      GBA   \n",
       "8358   Teenage Mutant Ninja Turtles: Game Boy Advance...      GBA   \n",
       "8494                                        Stronghold 3       PC   \n",
       "8754   Cartoon Network Collection: Game Boy Advance V...      GBA   \n",
       "8837   Pokémon: Johto Photo Finish: Game Boy Advance ...      GBA   \n",
       "8883   Strawberry Shortcake: Game Boy Advance Video V...      GBA   \n",
       "9703                    Disney Channel Collection Vol. 1      GBA   \n",
       "9812              Atsumare! Power Pro Kun no DS Koushien       DS   \n",
       "10418                       Action Man-Operation Extreme       PS   \n",
       "11175                     Monster Hunter Frontier Online      PS3   \n",
       "11569                          B.L.U.E.: Legend of Water       PS   \n",
       "11985                                       Housekeeping       DS   \n",
       "12209                                Bikkuriman Daijiten       DS   \n",
       "12544                                     World of Tanks     X360   \n",
       "12629                                 UK Truck Simulator       PC   \n",
       "12881  Umineko no Naku Koro ni San: Shinjitsu to Gens...      PS3   \n",
       "13197                                       Mario Tennis      3DS   \n",
       "13274  Nicktoons Collection: Game Boy Advance Video V...      GBA   \n",
       "13299                   Demolition Company: Gold Edition       PC   \n",
       "13537  Moshi, Kono Sekai ni Kami-sama ga Iru to suru ...      PSV   \n",
       "13876                                       Dream Dancer       DS   \n",
       "14137                    Homeworld Remastered Collection       PC   \n",
       "14153             AKB1/48: Idol to Guam de Koishitara...     X360   \n",
       "14163  Super Robot Monkey Team: Game Boy Advance Vide...      GBA   \n",
       "14189                        Brothers in Arms: Furious 4     X360   \n",
       "14196                                  Dance with Devils      PSV   \n",
       "14519                             Driving Simulator 2011       PC   \n",
       "14747                             Farming Simulator 2011       PC   \n",
       "14975  Super Robot Wars OG Saga: Masou Kishin II - Re...      PSP   \n",
       "15621  Cartoon Network Collection: Game Boy Advance V...      GBA   \n",
       "16600                               Chou Soujuu Mecha MG       DS   \n",
       "16644       Prinny: Can I Really Be The Hero? (US sales)      PSP   \n",
       "\n",
       "      Year_of_Release         Genre Publisher  NA_Sales  EU_Sales  JP_Sales  \\\n",
       "475               nan      Fighting       NaN      1.57      1.02      0.00   \n",
       "1301              nan        Sports       NaN      0.81      0.55      0.00   \n",
       "1667        2006-2017          Misc       NaN      0.87      0.32      0.00   \n",
       "2212        2004-2005          Misc       NaN      0.67      0.25      0.00   \n",
       "3148        2004-2005          Misc       NaN      0.46      0.17      0.00   \n",
       "3159        2004-2005          Misc       NaN      0.46      0.17      0.00   \n",
       "3755        2004-2005          Misc       NaN      0.38      0.14      0.00   \n",
       "4127              nan      Platform       NaN      0.00      0.48      0.00   \n",
       "4508        2004-2005          Misc       NaN      0.31      0.11      0.00   \n",
       "4615        2004-2005          Misc       NaN      0.30      0.11      0.00   \n",
       "5294              nan        Action       NaN      0.15      0.05      0.14   \n",
       "5633        2004-2005          Misc       NaN      0.23      0.08      0.00   \n",
       "6256              nan        Action       NaN      0.00      0.00      0.27   \n",
       "6415        2004-2005          Misc       NaN      0.19      0.07      0.00   \n",
       "6532        2004-2005          Misc       NaN      0.18      0.07      0.00   \n",
       "6626        2004-2005          Misc       NaN      0.18      0.07      0.00   \n",
       "6831        2004-2005          Misc       NaN      0.17      0.06      0.00   \n",
       "7189        2004-2005          Misc       NaN      0.16      0.06      0.00   \n",
       "7333              nan      Fighting       NaN      0.10      0.08      0.00   \n",
       "7477        2004-2005          Misc       NaN      0.15      0.05      0.00   \n",
       "7930        2004-2005     Adventure       NaN      0.13      0.05      0.00   \n",
       "8317        2004-2005          Misc       NaN      0.12      0.05      0.00   \n",
       "8328        2004-2005          Misc       NaN      0.12      0.05      0.00   \n",
       "8358        2004-2005          Misc       NaN      0.12      0.04      0.00   \n",
       "8494        2010-2011      Strategy       NaN      0.06      0.10      0.00   \n",
       "8754        2004-2005          Misc       NaN      0.11      0.04      0.00   \n",
       "8837        2004-2005          Misc       NaN      0.11      0.04      0.00   \n",
       "8883        2004-2005          Misc       NaN      0.11      0.04      0.00   \n",
       "9703        2004-2005          Misc       NaN      0.08      0.03      0.00   \n",
       "9812              nan        Sports       NaN      0.00      0.00      0.10   \n",
       "10418             nan        Action       NaN      0.05      0.03      0.00   \n",
       "11175             nan  Role-Playing       NaN      0.00      0.00      0.05   \n",
       "11569             nan     Adventure       NaN      0.00      0.00      0.04   \n",
       "11985             nan        Action       NaN      0.00      0.00      0.04   \n",
       "12209             nan          Misc       NaN      0.00      0.00      0.03   \n",
       "12544             nan       Shooter       NaN      0.00      0.03      0.00   \n",
       "12629       2010-2011    Simulation       NaN      0.00      0.03      0.00   \n",
       "12881             nan     Adventure       NaN      0.00      0.00      0.02   \n",
       "13197             nan        Sports       NaN      0.00      0.00      0.02   \n",
       "13274       2004-2005          Misc       NaN      0.01      0.01      0.00   \n",
       "13299       2010-2011    Simulation       NaN      0.00      0.02      0.00   \n",
       "13537          2016.0     Adventure       NaN      0.00      0.00      0.02   \n",
       "13876             nan          Misc       NaN      0.01      0.00      0.00   \n",
       "14137             nan      Strategy       NaN      0.00      0.01      0.00   \n",
       "14153             nan          Misc       NaN      0.00      0.00      0.01   \n",
       "14163       2004-2005          Misc       NaN      0.01      0.00      0.00   \n",
       "14189             nan       Shooter       NaN      0.01      0.00      0.00   \n",
       "14196          2016.0        Action       NaN      0.00      0.00      0.01   \n",
       "14519       2010-2011        Racing       NaN      0.00      0.01      0.00   \n",
       "14747       2010-2011    Simulation       NaN      0.00      0.13      0.00   \n",
       "14975             nan      Strategy       NaN      0.00      0.00      0.12   \n",
       "15621       2004-2005          Misc       NaN      0.06      0.02      0.00   \n",
       "16600             nan    Simulation       NaN      0.00      0.00      0.06   \n",
       "16644             nan        Action       NaN      0.06      0.00      0.00   \n",
       "\n",
       "       Critic_Score  Critic_Count User_Score  User_Count  \\\n",
       "475             NaN           NaN        NaN         NaN   \n",
       "1301            NaN           NaN        NaN         NaN   \n",
       "1667            NaN           NaN        NaN         NaN   \n",
       "2212            NaN           NaN        NaN         NaN   \n",
       "3148            NaN           NaN        NaN         NaN   \n",
       "3159            NaN           NaN        NaN         NaN   \n",
       "3755            NaN           NaN        NaN         NaN   \n",
       "4127           43.0          17.0        4.1       176.0   \n",
       "4508            NaN           NaN        NaN         NaN   \n",
       "4615            NaN           NaN        NaN         NaN   \n",
       "5294            NaN           NaN        NaN         NaN   \n",
       "5633            NaN           NaN        NaN         NaN   \n",
       "6256            NaN           NaN        NaN         NaN   \n",
       "6415            NaN           NaN        NaN         NaN   \n",
       "6532            NaN           NaN        NaN         NaN   \n",
       "6626            NaN           NaN        NaN         NaN   \n",
       "6831            NaN           NaN        NaN         NaN   \n",
       "7189            NaN           NaN        NaN         NaN   \n",
       "7333           56.0          15.0        8.5        18.0   \n",
       "7477            NaN           NaN        NaN         NaN   \n",
       "7930            NaN           NaN        NaN         NaN   \n",
       "8317            NaN           NaN        NaN         NaN   \n",
       "8328            NaN           NaN        NaN         NaN   \n",
       "8358            NaN           NaN        NaN         NaN   \n",
       "8494           47.0          29.0          3       350.0   \n",
       "8754            NaN           NaN        NaN         NaN   \n",
       "8837            NaN           NaN        NaN         NaN   \n",
       "8883            NaN           NaN        NaN         NaN   \n",
       "9703            NaN           NaN        NaN         NaN   \n",
       "9812            NaN           NaN        NaN         NaN   \n",
       "10418           NaN           NaN        NaN         NaN   \n",
       "11175           NaN           NaN        NaN         NaN   \n",
       "11569           NaN           NaN        NaN         NaN   \n",
       "11985           NaN           NaN        NaN         NaN   \n",
       "12209           NaN           NaN        NaN         NaN   \n",
       "12544           NaN           NaN        5.2         9.0   \n",
       "12629           NaN           NaN        NaN         NaN   \n",
       "12881           NaN           NaN        NaN         NaN   \n",
       "13197           NaN           NaN        NaN         NaN   \n",
       "13274           NaN           NaN        NaN         NaN   \n",
       "13299           NaN           NaN        tbd         NaN   \n",
       "13537           NaN           NaN        NaN         NaN   \n",
       "13876           NaN           NaN        tbd         NaN   \n",
       "14137          86.0          49.0        8.2       324.0   \n",
       "14153           NaN           NaN        NaN         NaN   \n",
       "14163           NaN           NaN        NaN         NaN   \n",
       "14189           NaN           NaN        NaN         NaN   \n",
       "14196           NaN           NaN        NaN         NaN   \n",
       "14519           NaN           NaN        NaN         NaN   \n",
       "14747           NaN           NaN          7        23.0   \n",
       "14975           NaN           NaN        NaN         NaN   \n",
       "15621           NaN           NaN        NaN         NaN   \n",
       "16600           NaN           NaN        NaN         NaN   \n",
       "16644           NaN           NaN        NaN         NaN   \n",
       "\n",
       "                                      Developer Rating  \n",
       "475                                         NaN    NaN  \n",
       "1301                                        NaN    NaN  \n",
       "1667                                        NaN    NaN  \n",
       "2212                                        NaN    NaN  \n",
       "3148                                        NaN    NaN  \n",
       "3159                                        NaN    NaN  \n",
       "3755                                        NaN    NaN  \n",
       "4127                                 Sonic Team   E10+  \n",
       "4508                                        NaN    NaN  \n",
       "4615                                        NaN    NaN  \n",
       "5294                                        NaN    NaN  \n",
       "5633                                        NaN    NaN  \n",
       "6256                                        NaN    NaN  \n",
       "6415                                        NaN    NaN  \n",
       "6532                                        NaN    NaN  \n",
       "6626                                        NaN    NaN  \n",
       "6831                                        NaN    NaN  \n",
       "7189                                        NaN    NaN  \n",
       "7333                            Digital Fiction      T  \n",
       "7477                                        NaN    NaN  \n",
       "7930                                        NaN    NaN  \n",
       "8317                                        NaN    NaN  \n",
       "8328                                        NaN    NaN  \n",
       "8358                                        NaN    NaN  \n",
       "8494                            FireFly Studios      T  \n",
       "8754                                        NaN    NaN  \n",
       "8837                                        NaN    NaN  \n",
       "8883                                        NaN    NaN  \n",
       "9703                                        NaN    NaN  \n",
       "9812                                        NaN    NaN  \n",
       "10418                                       NaN    NaN  \n",
       "11175                                       NaN    NaN  \n",
       "11569                                       NaN    NaN  \n",
       "11985                                       NaN    NaN  \n",
       "12209                                       NaN    NaN  \n",
       "12544                    Microsoft Game Studios    NaN  \n",
       "12629                                       NaN    NaN  \n",
       "12881                                       NaN    NaN  \n",
       "13197                                       NaN    NaN  \n",
       "13274                                       NaN    NaN  \n",
       "13299                           Giants Software    NaN  \n",
       "13537                                       NaN    NaN  \n",
       "13876  CyberPlanet Interactive Public Co., Ltd.      E  \n",
       "14137                          Gearbox Software   E10+  \n",
       "14153                                       NaN    NaN  \n",
       "14163                                       NaN    NaN  \n",
       "14189                          Gearbox Software      M  \n",
       "14196                                       NaN    NaN  \n",
       "14519                                       NaN    NaN  \n",
       "14747                           Giants Software      E  \n",
       "14975                                       NaN    NaN  \n",
       "15621                                       NaN    NaN  \n",
       "16600                                       NaN    NaN  \n",
       "16644                                       NaN    NaN  "
      ]
     },
     "execution_count": 36,
     "metadata": {},
     "output_type": "execute_result"
    }
   ],
   "source": [
    "data[data.Publisher.isnull()]"
   ]
  },
  {
   "cell_type": "code",
   "execution_count": 37,
   "id": "e6008b9f",
   "metadata": {},
   "outputs": [],
   "source": [
    "l=dict(data.Name[data.Publisher.isnull()])"
   ]
  },
  {
   "cell_type": "code",
   "execution_count": 38,
   "id": "39b3e75c",
   "metadata": {},
   "outputs": [
    {
     "name": "stderr",
     "output_type": "stream",
     "text": [
      "C:\\Users\\PRADEE~1\\AppData\\Local\\Temp/ipykernel_9016/3404171800.py:1: SettingWithCopyWarning: \n",
      "A value is trying to be set on a copy of a slice from a DataFrame\n",
      "\n",
      "See the caveats in the documentation: https://pandas.pydata.org/pandas-docs/stable/user_guide/indexing.html#returning-a-view-versus-a-copy\n",
      "  data.Publisher[data.Name==l[475]] = \"THQ\"\n",
      "C:\\Users\\PRADEE~1\\AppData\\Local\\Temp/ipykernel_9016/3404171800.py:2: SettingWithCopyWarning: \n",
      "A value is trying to be set on a copy of a slice from a DataFrame\n",
      "\n",
      "See the caveats in the documentation: https://pandas.pydata.org/pandas-docs/stable/user_guide/indexing.html#returning-a-view-versus-a-copy\n",
      "  data.Publisher[data.Name==l[1301]] = \"Electronic Arts\"\n",
      "C:\\Users\\PRADEE~1\\AppData\\Local\\Temp/ipykernel_9016/3404171800.py:3: SettingWithCopyWarning: \n",
      "A value is trying to be set on a copy of a slice from a DataFrame\n",
      "\n",
      "See the caveats in the documentation: https://pandas.pydata.org/pandas-docs/stable/user_guide/indexing.html#returning-a-view-versus-a-copy\n",
      "  data.Publisher[data.Name==l[1667]] = \"Take-Two Interactive\"\n",
      "C:\\Users\\PRADEE~1\\AppData\\Local\\Temp/ipykernel_9016/3404171800.py:4: SettingWithCopyWarning: \n",
      "A value is trying to be set on a copy of a slice from a DataFrame\n",
      "\n",
      "See the caveats in the documentation: https://pandas.pydata.org/pandas-docs/stable/user_guide/indexing.html#returning-a-view-versus-a-copy\n",
      "  data.Publisher[data.Name==l[2212]] = \"Sony Computer Entertainment\"\n",
      "C:\\Users\\PRADEE~1\\AppData\\Local\\Temp/ipykernel_9016/3404171800.py:5: SettingWithCopyWarning: \n",
      "A value is trying to be set on a copy of a slice from a DataFrame\n",
      "\n",
      "See the caveats in the documentation: https://pandas.pydata.org/pandas-docs/stable/user_guide/indexing.html#returning-a-view-versus-a-copy\n",
      "  data.Publisher[data.Name==l[3148]] = \"Majesco Entertainment\"\n",
      "C:\\Users\\PRADEE~1\\AppData\\Local\\Temp/ipykernel_9016/3404171800.py:6: SettingWithCopyWarning: \n",
      "A value is trying to be set on a copy of a slice from a DataFrame\n",
      "\n",
      "See the caveats in the documentation: https://pandas.pydata.org/pandas-docs/stable/user_guide/indexing.html#returning-a-view-versus-a-copy\n",
      "  data.Publisher[data.Name==l[3159]] = \"Majesco Entertainment\"\n",
      "C:\\Users\\PRADEE~1\\AppData\\Local\\Temp/ipykernel_9016/3404171800.py:7: SettingWithCopyWarning: \n",
      "A value is trying to be set on a copy of a slice from a DataFrame\n",
      "\n",
      "See the caveats in the documentation: https://pandas.pydata.org/pandas-docs/stable/user_guide/indexing.html#returning-a-view-versus-a-copy\n",
      "  data.Publisher[data.Name==l[3755]] = \"Majesco Entertainment\"\n",
      "C:\\Users\\PRADEE~1\\AppData\\Local\\Temp/ipykernel_9016/3404171800.py:8: SettingWithCopyWarning: \n",
      "A value is trying to be set on a copy of a slice from a DataFrame\n",
      "\n",
      "See the caveats in the documentation: https://pandas.pydata.org/pandas-docs/stable/user_guide/indexing.html#returning-a-view-versus-a-copy\n",
      "  data.Publisher[data.Name==l[4127]] = \"Sega\"\n",
      "C:\\Users\\PRADEE~1\\AppData\\Local\\Temp/ipykernel_9016/3404171800.py:9: SettingWithCopyWarning: \n",
      "A value is trying to be set on a copy of a slice from a DataFrame\n",
      "\n",
      "See the caveats in the documentation: https://pandas.pydata.org/pandas-docs/stable/user_guide/indexing.html#returning-a-view-versus-a-copy\n",
      "  data.Publisher[data.Name==l[4508]] = \"THQ\"\n",
      "C:\\Users\\PRADEE~1\\AppData\\Local\\Temp/ipykernel_9016/3404171800.py:10: SettingWithCopyWarning: \n",
      "A value is trying to be set on a copy of a slice from a DataFrame\n",
      "\n",
      "See the caveats in the documentation: https://pandas.pydata.org/pandas-docs/stable/user_guide/indexing.html#returning-a-view-versus-a-copy\n",
      "  data.Publisher[data.Name==l[4615]] = \"THQ\"\n",
      "C:\\Users\\PRADEE~1\\AppData\\Local\\Temp/ipykernel_9016/3404171800.py:11: SettingWithCopyWarning: \n",
      "A value is trying to be set on a copy of a slice from a DataFrame\n",
      "\n",
      "See the caveats in the documentation: https://pandas.pydata.org/pandas-docs/stable/user_guide/indexing.html#returning-a-view-versus-a-copy\n",
      "  data.Publisher[data.Name==l[5294]] = \"Nintendo\"\n",
      "C:\\Users\\PRADEE~1\\AppData\\Local\\Temp/ipykernel_9016/3404171800.py:12: SettingWithCopyWarning: \n",
      "A value is trying to be set on a copy of a slice from a DataFrame\n",
      "\n",
      "See the caveats in the documentation: https://pandas.pydata.org/pandas-docs/stable/user_guide/indexing.html#returning-a-view-versus-a-copy\n",
      "  data.Publisher[data.Name==l[5633]] = \"Majesco Entertainment\"\n",
      "C:\\Users\\PRADEE~1\\AppData\\Local\\Temp/ipykernel_9016/3404171800.py:13: SettingWithCopyWarning: \n",
      "A value is trying to be set on a copy of a slice from a DataFrame\n",
      "\n",
      "See the caveats in the documentation: https://pandas.pydata.org/pandas-docs/stable/user_guide/indexing.html#returning-a-view-versus-a-copy\n",
      "  data.Publisher[data.Name==l[6256]] = \"Nintendo\"\n",
      "C:\\Users\\PRADEE~1\\AppData\\Local\\Temp/ipykernel_9016/3404171800.py:14: SettingWithCopyWarning: \n",
      "A value is trying to be set on a copy of a slice from a DataFrame\n",
      "\n",
      "See the caveats in the documentation: https://pandas.pydata.org/pandas-docs/stable/user_guide/indexing.html#returning-a-view-versus-a-copy\n",
      "  data.Publisher[data.Name==l[6415]] = \"Majesco Entertainment\"\n",
      "C:\\Users\\PRADEE~1\\AppData\\Local\\Temp/ipykernel_9016/3404171800.py:15: SettingWithCopyWarning: \n",
      "A value is trying to be set on a copy of a slice from a DataFrame\n",
      "\n",
      "See the caveats in the documentation: https://pandas.pydata.org/pandas-docs/stable/user_guide/indexing.html#returning-a-view-versus-a-copy\n",
      "  data.Publisher[data.Name==l[6532]] = \"Gotham Games\"\n",
      "C:\\Users\\PRADEE~1\\AppData\\Local\\Temp/ipykernel_9016/3404171800.py:16: SettingWithCopyWarning: \n",
      "A value is trying to be set on a copy of a slice from a DataFrame\n",
      "\n",
      "See the caveats in the documentation: https://pandas.pydata.org/pandas-docs/stable/user_guide/indexing.html#returning-a-view-versus-a-copy\n",
      "  data.Publisher[data.Name==l[6626]] = \"Nintendo\"\n",
      "C:\\Users\\PRADEE~1\\AppData\\Local\\Temp/ipykernel_9016/3404171800.py:17: SettingWithCopyWarning: \n",
      "A value is trying to be set on a copy of a slice from a DataFrame\n",
      "\n",
      "See the caveats in the documentation: https://pandas.pydata.org/pandas-docs/stable/user_guide/indexing.html#returning-a-view-versus-a-copy\n",
      "  data.Publisher[data.Name==l[6831]] = \"THQ\"\n",
      "C:\\Users\\PRADEE~1\\AppData\\Local\\Temp/ipykernel_9016/3404171800.py:18: SettingWithCopyWarning: \n",
      "A value is trying to be set on a copy of a slice from a DataFrame\n",
      "\n",
      "See the caveats in the documentation: https://pandas.pydata.org/pandas-docs/stable/user_guide/indexing.html#returning-a-view-versus-a-copy\n",
      "  data.Publisher[data.Name==l[7189]] = \"Nintendo\"\n",
      "C:\\Users\\PRADEE~1\\AppData\\Local\\Temp/ipykernel_9016/3404171800.py:19: SettingWithCopyWarning: \n",
      "A value is trying to be set on a copy of a slice from a DataFrame\n",
      "\n",
      "See the caveats in the documentation: https://pandas.pydata.org/pandas-docs/stable/user_guide/indexing.html#returning-a-view-versus-a-copy\n",
      "  data.Publisher[data.Name==l[7333]] = \"Atari\"\n",
      "C:\\Users\\PRADEE~1\\AppData\\Local\\Temp/ipykernel_9016/3404171800.py:20: SettingWithCopyWarning: \n",
      "A value is trying to be set on a copy of a slice from a DataFrame\n",
      "\n",
      "See the caveats in the documentation: https://pandas.pydata.org/pandas-docs/stable/user_guide/indexing.html#returning-a-view-versus-a-copy\n",
      "  data.Publisher[data.Name==l[7477]] = \"Nintendo\"\n",
      "C:\\Users\\PRADEE~1\\AppData\\Local\\Temp/ipykernel_9016/3404171800.py:21: SettingWithCopyWarning: \n",
      "A value is trying to be set on a copy of a slice from a DataFrame\n",
      "\n",
      "See the caveats in the documentation: https://pandas.pydata.org/pandas-docs/stable/user_guide/indexing.html#returning-a-view-versus-a-copy\n",
      "  data.Publisher[data.Name==l[7930]] = \"THQ\"\n",
      "C:\\Users\\PRADEE~1\\AppData\\Local\\Temp/ipykernel_9016/3404171800.py:22: SettingWithCopyWarning: \n",
      "A value is trying to be set on a copy of a slice from a DataFrame\n",
      "\n",
      "See the caveats in the documentation: https://pandas.pydata.org/pandas-docs/stable/user_guide/indexing.html#returning-a-view-versus-a-copy\n",
      "  data.Publisher[data.Name==l[8317]] = \"Nintendo\"\n",
      "C:\\Users\\PRADEE~1\\AppData\\Local\\Temp/ipykernel_9016/3404171800.py:23: SettingWithCopyWarning: \n",
      "A value is trying to be set on a copy of a slice from a DataFrame\n",
      "\n",
      "See the caveats in the documentation: https://pandas.pydata.org/pandas-docs/stable/user_guide/indexing.html#returning-a-view-versus-a-copy\n",
      "  data.Publisher[data.Name==l[8328]] = \"Global Star\"\n",
      "C:\\Users\\PRADEE~1\\AppData\\Local\\Temp/ipykernel_9016/3404171800.py:24: SettingWithCopyWarning: \n",
      "A value is trying to be set on a copy of a slice from a DataFrame\n",
      "\n",
      "See the caveats in the documentation: https://pandas.pydata.org/pandas-docs/stable/user_guide/indexing.html#returning-a-view-versus-a-copy\n",
      "  data.Publisher[data.Name==l[8358]] = \"Konami Digital Entertainment\"\n",
      "C:\\Users\\PRADEE~1\\AppData\\Local\\Temp/ipykernel_9016/3404171800.py:25: SettingWithCopyWarning: \n",
      "A value is trying to be set on a copy of a slice from a DataFrame\n",
      "\n",
      "See the caveats in the documentation: https://pandas.pydata.org/pandas-docs/stable/user_guide/indexing.html#returning-a-view-versus-a-copy\n",
      "  data.Publisher[data.Name==l[8494]] = \"Unknown\"\n",
      "C:\\Users\\PRADEE~1\\AppData\\Local\\Temp/ipykernel_9016/3404171800.py:26: SettingWithCopyWarning: \n",
      "A value is trying to be set on a copy of a slice from a DataFrame\n",
      "\n",
      "See the caveats in the documentation: https://pandas.pydata.org/pandas-docs/stable/user_guide/indexing.html#returning-a-view-versus-a-copy\n",
      "  data.Publisher[data.Name==l[8754]] = \"Majesco Entertainment\"\n",
      "C:\\Users\\PRADEE~1\\AppData\\Local\\Temp/ipykernel_9016/3404171800.py:27: SettingWithCopyWarning: \n",
      "A value is trying to be set on a copy of a slice from a DataFrame\n",
      "\n",
      "See the caveats in the documentation: https://pandas.pydata.org/pandas-docs/stable/user_guide/indexing.html#returning-a-view-versus-a-copy\n",
      "  data.Publisher[data.Name==l[8837]] = \"Nintendo\"\n",
      "C:\\Users\\PRADEE~1\\AppData\\Local\\Temp/ipykernel_9016/3404171800.py:28: SettingWithCopyWarning: \n",
      "A value is trying to be set on a copy of a slice from a DataFrame\n",
      "\n",
      "See the caveats in the documentation: https://pandas.pydata.org/pandas-docs/stable/user_guide/indexing.html#returning-a-view-versus-a-copy\n",
      "  data.Publisher[data.Name==l[8883]] = \"Nintendo\"\n",
      "C:\\Users\\PRADEE~1\\AppData\\Local\\Temp/ipykernel_9016/3404171800.py:29: SettingWithCopyWarning: \n",
      "A value is trying to be set on a copy of a slice from a DataFrame\n",
      "\n",
      "See the caveats in the documentation: https://pandas.pydata.org/pandas-docs/stable/user_guide/indexing.html#returning-a-view-versus-a-copy\n",
      "  data.Publisher[data.Name==l[9703]] = \"Majesco Entertainment\"\n",
      "C:\\Users\\PRADEE~1\\AppData\\Local\\Temp/ipykernel_9016/3404171800.py:30: SettingWithCopyWarning: \n",
      "A value is trying to be set on a copy of a slice from a DataFrame\n",
      "\n",
      "See the caveats in the documentation: https://pandas.pydata.org/pandas-docs/stable/user_guide/indexing.html#returning-a-view-versus-a-copy\n",
      "  data.Publisher[data.Name==l[9812]] = \"Konami Digital Entertainment\"\n",
      "C:\\Users\\PRADEE~1\\AppData\\Local\\Temp/ipykernel_9016/3404171800.py:31: SettingWithCopyWarning: \n",
      "A value is trying to be set on a copy of a slice from a DataFrame\n",
      "\n",
      "See the caveats in the documentation: https://pandas.pydata.org/pandas-docs/stable/user_guide/indexing.html#returning-a-view-versus-a-copy\n",
      "  data.Publisher[data.Name==l[10418]] = \"Habro Interactive\"\n",
      "C:\\Users\\PRADEE~1\\AppData\\Local\\Temp/ipykernel_9016/3404171800.py:32: SettingWithCopyWarning: \n",
      "A value is trying to be set on a copy of a slice from a DataFrame\n",
      "\n",
      "See the caveats in the documentation: https://pandas.pydata.org/pandas-docs/stable/user_guide/indexing.html#returning-a-view-versus-a-copy\n",
      "  data.Publisher[data.Name==l[11175]] = \"Microsoft Game Studios\"\n",
      "C:\\Users\\PRADEE~1\\AppData\\Local\\Temp/ipykernel_9016/3404171800.py:33: SettingWithCopyWarning: \n",
      "A value is trying to be set on a copy of a slice from a DataFrame\n",
      "\n",
      "See the caveats in the documentation: https://pandas.pydata.org/pandas-docs/stable/user_guide/indexing.html#returning-a-view-versus-a-copy\n",
      "  data.Publisher[data.Name==l[11569]] = \"Hudson soft\"\n",
      "C:\\Users\\PRADEE~1\\AppData\\Local\\Temp/ipykernel_9016/3404171800.py:34: SettingWithCopyWarning: \n",
      "A value is trying to be set on a copy of a slice from a DataFrame\n",
      "\n",
      "See the caveats in the documentation: https://pandas.pydata.org/pandas-docs/stable/user_guide/indexing.html#returning-a-view-versus-a-copy\n",
      "  data.Publisher[data.Name==l[11985]] = \"Unknown\"\n",
      "C:\\Users\\PRADEE~1\\AppData\\Local\\Temp/ipykernel_9016/3404171800.py:35: SettingWithCopyWarning: \n",
      "A value is trying to be set on a copy of a slice from a DataFrame\n",
      "\n",
      "See the caveats in the documentation: https://pandas.pydata.org/pandas-docs/stable/user_guide/indexing.html#returning-a-view-versus-a-copy\n",
      "  data.Publisher[data.Name==l[12209]] = \"Nintendo\"\n",
      "C:\\Users\\PRADEE~1\\AppData\\Local\\Temp/ipykernel_9016/3404171800.py:36: SettingWithCopyWarning: \n",
      "A value is trying to be set on a copy of a slice from a DataFrame\n",
      "\n",
      "See the caveats in the documentation: https://pandas.pydata.org/pandas-docs/stable/user_guide/indexing.html#returning-a-view-versus-a-copy\n",
      "  data.Publisher[data.Name==l[12544]] = \"Wargaming.net\"\n",
      "C:\\Users\\PRADEE~1\\AppData\\Local\\Temp/ipykernel_9016/3404171800.py:37: SettingWithCopyWarning: \n",
      "A value is trying to be set on a copy of a slice from a DataFrame\n",
      "\n",
      "See the caveats in the documentation: https://pandas.pydata.org/pandas-docs/stable/user_guide/indexing.html#returning-a-view-versus-a-copy\n",
      "  data.Publisher[data.Name==l[12629]] = \"Nintendo\"\n",
      "C:\\Users\\PRADEE~1\\AppData\\Local\\Temp/ipykernel_9016/3404171800.py:38: SettingWithCopyWarning: \n",
      "A value is trying to be set on a copy of a slice from a DataFrame\n",
      "\n",
      "See the caveats in the documentation: https://pandas.pydata.org/pandas-docs/stable/user_guide/indexing.html#returning-a-view-versus-a-copy\n",
      "  data.Publisher[data.Name==l[12881]] = \"Sony Computer Entertainment\"\n",
      "C:\\Users\\PRADEE~1\\AppData\\Local\\Temp/ipykernel_9016/3404171800.py:39: SettingWithCopyWarning: \n",
      "A value is trying to be set on a copy of a slice from a DataFrame\n",
      "\n",
      "See the caveats in the documentation: https://pandas.pydata.org/pandas-docs/stable/user_guide/indexing.html#returning-a-view-versus-a-copy\n",
      "  data.Publisher[data.Name==l[13197]] = \"Nintendo\"\n",
      "C:\\Users\\PRADEE~1\\AppData\\Local\\Temp/ipykernel_9016/3404171800.py:40: SettingWithCopyWarning: \n",
      "A value is trying to be set on a copy of a slice from a DataFrame\n",
      "\n",
      "See the caveats in the documentation: https://pandas.pydata.org/pandas-docs/stable/user_guide/indexing.html#returning-a-view-versus-a-copy\n",
      "  data.Publisher[data.Name==l[13274]] = \"Nintendo\"\n",
      "C:\\Users\\PRADEE~1\\AppData\\Local\\Temp/ipykernel_9016/3404171800.py:41: SettingWithCopyWarning: \n",
      "A value is trying to be set on a copy of a slice from a DataFrame\n",
      "\n",
      "See the caveats in the documentation: https://pandas.pydata.org/pandas-docs/stable/user_guide/indexing.html#returning-a-view-versus-a-copy\n",
      "  data.Publisher[data.Name==l[13299]] = \"Nintendo\"\n",
      "C:\\Users\\PRADEE~1\\AppData\\Local\\Temp/ipykernel_9016/3404171800.py:42: SettingWithCopyWarning: \n",
      "A value is trying to be set on a copy of a slice from a DataFrame\n",
      "\n",
      "See the caveats in the documentation: https://pandas.pydata.org/pandas-docs/stable/user_guide/indexing.html#returning-a-view-versus-a-copy\n",
      "  data.Publisher[data.Name==l[13537]] = \"Unknown\"\n",
      "C:\\Users\\PRADEE~1\\AppData\\Local\\Temp/ipykernel_9016/3404171800.py:43: SettingWithCopyWarning: \n",
      "A value is trying to be set on a copy of a slice from a DataFrame\n",
      "\n",
      "See the caveats in the documentation: https://pandas.pydata.org/pandas-docs/stable/user_guide/indexing.html#returning-a-view-versus-a-copy\n",
      "  data.Publisher[data.Name==l[13876]] = \"Zoo Games\"\n",
      "C:\\Users\\PRADEE~1\\AppData\\Local\\Temp/ipykernel_9016/3404171800.py:44: SettingWithCopyWarning: \n",
      "A value is trying to be set on a copy of a slice from a DataFrame\n",
      "\n",
      "See the caveats in the documentation: https://pandas.pydata.org/pandas-docs/stable/user_guide/indexing.html#returning-a-view-versus-a-copy\n",
      "  data.Publisher[data.Name==l[14137]] = \"Gearbox Software\"\n",
      "C:\\Users\\PRADEE~1\\AppData\\Local\\Temp/ipykernel_9016/3404171800.py:45: SettingWithCopyWarning: \n",
      "A value is trying to be set on a copy of a slice from a DataFrame\n",
      "\n",
      "See the caveats in the documentation: https://pandas.pydata.org/pandas-docs/stable/user_guide/indexing.html#returning-a-view-versus-a-copy\n",
      "  data.Publisher[data.Name==l[14153]] = \"Unknown\"\n",
      "C:\\Users\\PRADEE~1\\AppData\\Local\\Temp/ipykernel_9016/3404171800.py:46: SettingWithCopyWarning: \n",
      "A value is trying to be set on a copy of a slice from a DataFrame\n",
      "\n",
      "See the caveats in the documentation: https://pandas.pydata.org/pandas-docs/stable/user_guide/indexing.html#returning-a-view-versus-a-copy\n",
      "  data.Publisher[data.Name==l[14163]] = \"Majesco Entertainment\"\n",
      "C:\\Users\\PRADEE~1\\AppData\\Local\\Temp/ipykernel_9016/3404171800.py:47: SettingWithCopyWarning: \n",
      "A value is trying to be set on a copy of a slice from a DataFrame\n",
      "\n",
      "See the caveats in the documentation: https://pandas.pydata.org/pandas-docs/stable/user_guide/indexing.html#returning-a-view-versus-a-copy\n",
      "  data.Publisher[data.Name==l[14189]] = \"Ubisoft\"\n",
      "C:\\Users\\PRADEE~1\\AppData\\Local\\Temp/ipykernel_9016/3404171800.py:48: SettingWithCopyWarning: \n",
      "A value is trying to be set on a copy of a slice from a DataFrame\n",
      "\n",
      "See the caveats in the documentation: https://pandas.pydata.org/pandas-docs/stable/user_guide/indexing.html#returning-a-view-versus-a-copy\n",
      "  data.Publisher[data.Name==l[14196]] = \"Unknown\"\n",
      "C:\\Users\\PRADEE~1\\AppData\\Local\\Temp/ipykernel_9016/3404171800.py:49: SettingWithCopyWarning: \n",
      "A value is trying to be set on a copy of a slice from a DataFrame\n",
      "\n",
      "See the caveats in the documentation: https://pandas.pydata.org/pandas-docs/stable/user_guide/indexing.html#returning-a-view-versus-a-copy\n",
      "  data.Publisher[data.Name==l[14519]] = \"Excalibur publishing\"\n",
      "C:\\Users\\PRADEE~1\\AppData\\Local\\Temp/ipykernel_9016/3404171800.py:50: SettingWithCopyWarning: \n",
      "A value is trying to be set on a copy of a slice from a DataFrame\n",
      "\n",
      "See the caveats in the documentation: https://pandas.pydata.org/pandas-docs/stable/user_guide/indexing.html#returning-a-view-versus-a-copy\n",
      "  data.Publisher[data.Name==l[14747]] = \"Unknown\"\n",
      "C:\\Users\\PRADEE~1\\AppData\\Local\\Temp/ipykernel_9016/3404171800.py:51: SettingWithCopyWarning: \n",
      "A value is trying to be set on a copy of a slice from a DataFrame\n",
      "\n",
      "See the caveats in the documentation: https://pandas.pydata.org/pandas-docs/stable/user_guide/indexing.html#returning-a-view-versus-a-copy\n",
      "  data.Publisher[data.Name==l[14975]] = \"Unknown\"\n",
      "C:\\Users\\PRADEE~1\\AppData\\Local\\Temp/ipykernel_9016/3404171800.py:52: SettingWithCopyWarning: \n",
      "A value is trying to be set on a copy of a slice from a DataFrame\n",
      "\n",
      "See the caveats in the documentation: https://pandas.pydata.org/pandas-docs/stable/user_guide/indexing.html#returning-a-view-versus-a-copy\n",
      "  data.Publisher[data.Name==l[15621]] = \"Majesco Entertainment\"\n",
      "C:\\Users\\PRADEE~1\\AppData\\Local\\Temp/ipykernel_9016/3404171800.py:53: SettingWithCopyWarning: \n",
      "A value is trying to be set on a copy of a slice from a DataFrame\n",
      "\n",
      "See the caveats in the documentation: https://pandas.pydata.org/pandas-docs/stable/user_guide/indexing.html#returning-a-view-versus-a-copy\n",
      "  data.Publisher[data.Name==l[16600]] = \"Nintendo\"\n",
      "C:\\Users\\PRADEE~1\\AppData\\Local\\Temp/ipykernel_9016/3404171800.py:54: SettingWithCopyWarning: \n",
      "A value is trying to be set on a copy of a slice from a DataFrame\n",
      "\n",
      "See the caveats in the documentation: https://pandas.pydata.org/pandas-docs/stable/user_guide/indexing.html#returning-a-view-versus-a-copy\n",
      "  data.Publisher[data.Name==l[16644]] = \"Nintendo\"\n"
     ]
    }
   ],
   "source": [
    "data.Publisher[data.Name==l[475]] = \"THQ\"\n",
    "data.Publisher[data.Name==l[1301]] = \"Electronic Arts\"\n",
    "data.Publisher[data.Name==l[1667]] = \"Take-Two Interactive\"\n",
    "data.Publisher[data.Name==l[2212]] = \"Sony Computer Entertainment\"\n",
    "data.Publisher[data.Name==l[3148]] = \"Majesco Entertainment\"\n",
    "data.Publisher[data.Name==l[3159]] = \"Majesco Entertainment\"\n",
    "data.Publisher[data.Name==l[3755]] = \"Majesco Entertainment\"\n",
    "data.Publisher[data.Name==l[4127]] = \"Sega\"\n",
    "data.Publisher[data.Name==l[4508]] = \"THQ\"\n",
    "data.Publisher[data.Name==l[4615]] = \"THQ\"\n",
    "data.Publisher[data.Name==l[5294]] = \"Nintendo\"\n",
    "data.Publisher[data.Name==l[5633]] = \"Majesco Entertainment\"\n",
    "data.Publisher[data.Name==l[6256]] = \"Nintendo\"\n",
    "data.Publisher[data.Name==l[6415]] = \"Majesco Entertainment\"\n",
    "data.Publisher[data.Name==l[6532]] = \"Gotham Games\"\n",
    "data.Publisher[data.Name==l[6626]] = \"Nintendo\"\n",
    "data.Publisher[data.Name==l[6831]] = \"THQ\"\n",
    "data.Publisher[data.Name==l[7189]] = \"Nintendo\"\n",
    "data.Publisher[data.Name==l[7333]] = \"Atari\"\n",
    "data.Publisher[data.Name==l[7477]] = \"Nintendo\"\n",
    "data.Publisher[data.Name==l[7930]] = \"THQ\"\n",
    "data.Publisher[data.Name==l[8317]] = \"Nintendo\"\n",
    "data.Publisher[data.Name==l[8328]] = \"Global Star\"\n",
    "data.Publisher[data.Name==l[8358]] = \"Konami Digital Entertainment\"\n",
    "data.Publisher[data.Name==l[8494]] = \"Unknown\"\n",
    "data.Publisher[data.Name==l[8754]] = \"Majesco Entertainment\"\n",
    "data.Publisher[data.Name==l[8837]] = \"Nintendo\"\n",
    "data.Publisher[data.Name==l[8883]] = \"Nintendo\"\n",
    "data.Publisher[data.Name==l[9703]] = \"Majesco Entertainment\"\n",
    "data.Publisher[data.Name==l[9812]] = \"Konami Digital Entertainment\"\n",
    "data.Publisher[data.Name==l[10418]] = \"Habro Interactive\"\n",
    "data.Publisher[data.Name==l[11175]] = \"Microsoft Game Studios\"\n",
    "data.Publisher[data.Name==l[11569]] = \"Hudson soft\"\n",
    "data.Publisher[data.Name==l[11985]] = \"Unknown\"\n",
    "data.Publisher[data.Name==l[12209]] = \"Nintendo\"\n",
    "data.Publisher[data.Name==l[12544]] = \"Wargaming.net\"\n",
    "data.Publisher[data.Name==l[12629]] = \"Nintendo\"\n",
    "data.Publisher[data.Name==l[12881]] = \"Sony Computer Entertainment\"\n",
    "data.Publisher[data.Name==l[13197]] = \"Nintendo\"\n",
    "data.Publisher[data.Name==l[13274]] = \"Nintendo\"\n",
    "data.Publisher[data.Name==l[13299]] = \"Nintendo\"\n",
    "data.Publisher[data.Name==l[13537]] = \"Unknown\"\n",
    "data.Publisher[data.Name==l[13876]] = \"Zoo Games\"\n",
    "data.Publisher[data.Name==l[14137]] = \"Gearbox Software\"\n",
    "data.Publisher[data.Name==l[14153]] = \"Unknown\"\n",
    "data.Publisher[data.Name==l[14163]] = \"Majesco Entertainment\"\n",
    "data.Publisher[data.Name==l[14189]] = \"Ubisoft\"\n",
    "data.Publisher[data.Name==l[14196]] = \"Unknown\"\n",
    "data.Publisher[data.Name==l[14519]] = \"Excalibur publishing\"\n",
    "data.Publisher[data.Name==l[14747]] = \"Unknown\"\n",
    "data.Publisher[data.Name==l[14975]] = \"Unknown\"\n",
    "data.Publisher[data.Name==l[15621]] = \"Majesco Entertainment\"\n",
    "data.Publisher[data.Name==l[16600]] = \"Nintendo\"\n",
    "data.Publisher[data.Name==l[16644]] = \"Nintendo\""
   ]
  },
  {
   "cell_type": "markdown",
   "id": "d2b1d008",
   "metadata": {},
   "source": [
    "# NA_SALES"
   ]
  },
  {
   "cell_type": "code",
   "execution_count": 39,
   "id": "8b47e30f",
   "metadata": {},
   "outputs": [
    {
     "data": {
      "text/plain": [
       "{'whiskers': [<matplotlib.lines.Line2D at 0x2117827e5b0>,\n",
       "  <matplotlib.lines.Line2D at 0x2117827e880>],\n",
       " 'caps': [<matplotlib.lines.Line2D at 0x2117827ec10>,\n",
       "  <matplotlib.lines.Line2D at 0x2117827efa0>],\n",
       " 'boxes': [<matplotlib.lines.Line2D at 0x2117827e160>],\n",
       " 'medians': [<matplotlib.lines.Line2D at 0x2117828c370>],\n",
       " 'fliers': [<matplotlib.lines.Line2D at 0x2117828c700>],\n",
       " 'means': []}"
      ]
     },
     "execution_count": 39,
     "metadata": {},
     "output_type": "execute_result"
    },
    {
     "data": {
      "image/png": "[encoded data removed]",
      "text/plain": [
       "<Figure size 432x288 with 1 Axes>"
      ]
     },
     "metadata": {
      "needs_background": "light"
     },
     "output_type": "display_data"
    }
   ],
   "source": [
    "plt.boxplot(data.NA_Sales)"
   ]
  },
  {
   "cell_type": "markdown",
   "id": "b8e7e7d7",
   "metadata": {},
   "source": [
    "# EU_SALES"
   ]
  },
  {
   "cell_type": "code",
   "execution_count": 40,
   "id": "ddbf5ed0",
   "metadata": {},
   "outputs": [
    {
     "data": {
      "text/plain": [
       "{'whiskers': [<matplotlib.lines.Line2D at 0x21178b80700>,\n",
       "  <matplotlib.lines.Line2D at 0x21178b80a90>],\n",
       " 'caps': [<matplotlib.lines.Line2D at 0x21178b80e20>,\n",
       "  <matplotlib.lines.Line2D at 0x21178b881f0>],\n",
       " 'boxes': [<matplotlib.lines.Line2D at 0x21178b80370>],\n",
       " 'medians': [<matplotlib.lines.Line2D at 0x21178b88580>],\n",
       " 'fliers': [<matplotlib.lines.Line2D at 0x21178b88910>],\n",
       " 'means': []}"
      ]
     },
     "execution_count": 40,
     "metadata": {},
     "output_type": "execute_result"
    },
    {
     "data": {
      "image/png": "[encoded data removed]",
      "text/plain": [
       "<Figure size 432x288 with 1 Axes>"
      ]
     },
     "metadata": {
      "needs_background": "light"
     },
     "output_type": "display_data"
    }
   ],
   "source": [
    "plt.boxplot(data.EU_Sales)"
   ]
  },
  {
   "cell_type": "markdown",
   "id": "59acc679",
   "metadata": {},
   "source": [
    "# JP_SALES"
   ]
  },
  {
   "cell_type": "code",
   "execution_count": 41,
   "id": "fbef36c1",
   "metadata": {},
   "outputs": [
    {
     "data": {
      "text/plain": [
       "{'whiskers': [<matplotlib.lines.Line2D at 0x21178bc8fa0>,\n",
       "  <matplotlib.lines.Line2D at 0x21178bd3370>],\n",
       " 'caps': [<matplotlib.lines.Line2D at 0x21178bd3700>,\n",
       "  <matplotlib.lines.Line2D at 0x21178bd3a90>],\n",
       " 'boxes': [<matplotlib.lines.Line2D at 0x21178bc8c10>],\n",
       " 'medians': [<matplotlib.lines.Line2D at 0x21178bd3e20>],\n",
       " 'fliers': [<matplotlib.lines.Line2D at 0x21178bdb1f0>],\n",
       " 'means': []}"
      ]
     },
     "execution_count": 41,
     "metadata": {},
     "output_type": "execute_result"
    },
    {
     "data": {
      "image/png": "[encoded data removed]",
      "text/plain": [
       "<Figure size 432x288 with 1 Axes>"
      ]
     },
     "metadata": {
      "needs_background": "light"
     },
     "output_type": "display_data"
    }
   ],
   "source": [
    "plt.boxplot(data.JP_Sales)"
   ]
  },
  {
   "cell_type": "markdown",
   "id": "c98b3fe7",
   "metadata": {},
   "source": [
    "# CRITIC_SCORE"
   ]
  },
  {
   "cell_type": "markdown",
   "id": "60283a2e",
   "metadata": {},
   "source": [
    "<H3>I have filled null values of critic score by</H3>\n",
    "<h4>1.I have filled some null values of critic score by publisher with the critic score which is equal to null values of critic score</h4>\n",
    "<h4>2.I have filled some null values of critic score by genre with the critic score which is equal to null values of critic score</h4>\n",
    "<h4>3.I have filled remaining null values of critic score by mean</h4>"
   ]
  },
  {
   "cell_type": "code",
   "execution_count": 42,
   "id": "e26c0dc0",
   "metadata": {},
   "outputs": [
    {
     "data": {
      "text/plain": [
       "count    8137.000000\n",
       "mean       68.967679\n",
       "std        13.938165\n",
       "min        13.000000\n",
       "25%        60.000000\n",
       "50%        71.000000\n",
       "75%        79.000000\n",
       "max        98.000000\n",
       "Name: Critic_Score, dtype: float64"
      ]
     },
     "execution_count": 42,
     "metadata": {},
     "output_type": "execute_result"
    }
   ],
   "source": [
    "data.Critic_Score.describe()"
   ]
  },
  {
   "cell_type": "code",
   "execution_count": 43,
   "id": "710955cc",
   "metadata": {},
   "outputs": [
    {
     "data": {
      "text/plain": [
       "8580"
      ]
     },
     "execution_count": 43,
     "metadata": {},
     "output_type": "execute_result"
    }
   ],
   "source": [
    "data.Critic_Score.isnull().sum()"
   ]
  },
  {
   "cell_type": "code",
   "execution_count": 44,
   "id": "b49b0832",
   "metadata": {},
   "outputs": [
    {
     "name": "stderr",
     "output_type": "stream",
     "text": [
      "C:\\ProgramData\\Anaconda3\\lib\\site-packages\\pandas\\core\\indexing.py:1732: SettingWithCopyWarning: \n",
      "A value is trying to be set on a copy of a slice from a DataFrame\n",
      "\n",
      "See the caveats in the documentation: https://pandas.pydata.org/pandas-docs/stable/user_guide/indexing.html#returning-a-view-versus-a-copy\n",
      "  self._setitem_single_block(indexer, value, name)\n"
     ]
    }
   ],
   "source": [
    "for j in data[data['Critic_Score'].isnull()].index.tolist():\n",
    "    data.Critic_Score.iloc[j] =  data.Critic_Score[data['Publisher']==data['Publisher'].iloc[j]].mean()"
   ]
  },
  {
   "cell_type": "code",
   "execution_count": 45,
   "id": "f95d4494",
   "metadata": {},
   "outputs": [
    {
     "data": {
      "text/plain": [
       "4263"
      ]
     },
     "execution_count": 45,
     "metadata": {},
     "output_type": "execute_result"
    }
   ],
   "source": [
    "data.Critic_Score.isnull().sum()"
   ]
  },
  {
   "cell_type": "code",
   "execution_count": 46,
   "id": "2b302cfe",
   "metadata": {},
   "outputs": [],
   "source": [
    "for j in data[data['Critic_Score'].isnull()].index.tolist():\n",
    "    data.Critic_Score.iloc[j] =  data.Critic_Score[data['Genre']==data['Genre'].iloc[j]].mean()"
   ]
  },
  {
   "cell_type": "code",
   "execution_count": 47,
   "id": "db56effb",
   "metadata": {},
   "outputs": [
    {
     "data": {
      "text/plain": [
       "4009"
      ]
     },
     "execution_count": 47,
     "metadata": {},
     "output_type": "execute_result"
    }
   ],
   "source": [
    "data.Critic_Score.isnull().sum()"
   ]
  },
  {
   "cell_type": "code",
   "execution_count": 48,
   "id": "2ca960e4",
   "metadata": {},
   "outputs": [],
   "source": [
    "data.Critic_Score.fillna(data.Critic_Score.mean(),inplace=True)"
   ]
  },
  {
   "cell_type": "code",
   "execution_count": 49,
   "id": "ba6fdbe2",
   "metadata": {},
   "outputs": [
    {
     "data": {
      "text/plain": [
       "0"
      ]
     },
     "execution_count": 49,
     "metadata": {},
     "output_type": "execute_result"
    }
   ],
   "source": [
    "data.Critic_Score.isnull().sum()"
   ]
  },
  {
   "cell_type": "code",
   "execution_count": 50,
   "id": "5e9a8455",
   "metadata": {},
   "outputs": [
    {
     "data": {
      "text/plain": [
       "{'whiskers': [<matplotlib.lines.Line2D at 0x21178c855b0>,\n",
       "  <matplotlib.lines.Line2D at 0x21178c85970>],\n",
       " 'caps': [<matplotlib.lines.Line2D at 0x21178c85d00>,\n",
       "  <matplotlib.lines.Line2D at 0x21178c8c0d0>],\n",
       " 'boxes': [<matplotlib.lines.Line2D at 0x21178c85220>],\n",
       " 'medians': [<matplotlib.lines.Line2D at 0x21178c8c460>],\n",
       " 'fliers': [<matplotlib.lines.Line2D at 0x21178c8c7f0>],\n",
       " 'means': []}"
      ]
     },
     "execution_count": 50,
     "metadata": {},
     "output_type": "execute_result"
    },
    {
     "data": {
      "image/png": "[encoded data removed]",
      "text/plain": [
       "<Figure size 432x288 with 1 Axes>"
      ]
     },
     "metadata": {
      "needs_background": "light"
     },
     "output_type": "display_data"
    }
   ],
   "source": [
    "plt.boxplot(data.Critic_Score)"
   ]
  },
  {
   "cell_type": "markdown",
   "id": "3c541f96",
   "metadata": {},
   "source": [
    "# CRITIC COUNT"
   ]
  },
  {
   "cell_type": "markdown",
   "id": "8281f144",
   "metadata": {},
   "source": [
    "<H3>I have filled null values of critic count by</H3>\n",
    "<h4>1.I have filled some null values of critic count by publisher with the critic count which is equal to null values of critic count</h4>\n",
    "<h4>2.I have filled remaining null values of critic count by max</h4>"
   ]
  },
  {
   "cell_type": "code",
   "execution_count": 51,
   "id": "218a2145",
   "metadata": {},
   "outputs": [
    {
     "data": {
      "text/plain": [
       "8580"
      ]
     },
     "execution_count": 51,
     "metadata": {},
     "output_type": "execute_result"
    }
   ],
   "source": [
    "data.Critic_Count.isnull().sum()"
   ]
  },
  {
   "cell_type": "code",
   "execution_count": 52,
   "id": "6f086a31",
   "metadata": {},
   "outputs": [
    {
     "name": "stderr",
     "output_type": "stream",
     "text": [
      "C:\\ProgramData\\Anaconda3\\lib\\site-packages\\pandas\\core\\indexing.py:1732: SettingWithCopyWarning: \n",
      "A value is trying to be set on a copy of a slice from a DataFrame\n",
      "\n",
      "See the caveats in the documentation: https://pandas.pydata.org/pandas-docs/stable/user_guide/indexing.html#returning-a-view-versus-a-copy\n",
      "  self._setitem_single_block(indexer, value, name)\n"
     ]
    }
   ],
   "source": [
    "for j in data[data['Critic_Count'].isnull()].index.tolist():\n",
    "    data.Critic_Count.iloc[j] =  data.Critic_Count[data['Publisher']==data['Publisher'].iloc[j]].mode().max()"
   ]
  },
  {
   "cell_type": "code",
   "execution_count": 53,
   "id": "40534f6b",
   "metadata": {},
   "outputs": [
    {
     "data": {
      "text/plain": [
       "4263"
      ]
     },
     "execution_count": 53,
     "metadata": {},
     "output_type": "execute_result"
    }
   ],
   "source": [
    "data.Critic_Count.isnull().sum()"
   ]
  },
  {
   "cell_type": "code",
   "execution_count": 54,
   "id": "556ac07a",
   "metadata": {},
   "outputs": [],
   "source": [
    "data.Critic_Count.fillna(data.Critic_Count.max(),inplace=True)"
   ]
  },
  {
   "cell_type": "code",
   "execution_count": 55,
   "id": "c06122dd",
   "metadata": {},
   "outputs": [
    {
     "data": {
      "text/plain": [
       "0"
      ]
     },
     "execution_count": 55,
     "metadata": {},
     "output_type": "execute_result"
    }
   ],
   "source": [
    "data.Critic_Count.isnull().sum()"
   ]
  },
  {
   "cell_type": "markdown",
   "id": "73aff159",
   "metadata": {},
   "source": [
    "# USER SCORE"
   ]
  },
  {
   "cell_type": "markdown",
   "id": "f92d2ea3",
   "metadata": {},
   "source": [
    "<h3>User score is string data type so I convert the string to float\n",
    "<H3>I have filled null values of user score by</H3>\n",
    "<h4>1.I have filled some null values of user score by publisher with the user score which is equal to null values of user score</h4>\n",
    "<h4>2.I have filled remaining null values of user score by mean</h4>"
   ]
  },
  {
   "cell_type": "code",
   "execution_count": 56,
   "id": "ad976428",
   "metadata": {},
   "outputs": [
    {
     "data": {
      "text/plain": [
       "count     10015\n",
       "unique       96\n",
       "top         tbd\n",
       "freq       2425\n",
       "Name: User_Score, dtype: object"
      ]
     },
     "execution_count": 56,
     "metadata": {},
     "output_type": "execute_result"
    }
   ],
   "source": [
    "data.User_Score.describe()"
   ]
  },
  {
   "cell_type": "code",
   "execution_count": 57,
   "id": "2138df6e",
   "metadata": {},
   "outputs": [],
   "source": [
    "data.User_Score.replace(\"tbd\",np.nan,inplace=True)"
   ]
  },
  {
   "cell_type": "code",
   "execution_count": 58,
   "id": "218e1bba",
   "metadata": {},
   "outputs": [],
   "source": [
    "data[\"User_Score\"]=data[\"User_Score\"].astype(float)\n",
    " "
   ]
  },
  {
   "cell_type": "code",
   "execution_count": 59,
   "id": "09199f5e",
   "metadata": {},
   "outputs": [
    {
     "name": "stdout",
     "output_type": "stream",
     "text": [
      "<class 'pandas.core.frame.DataFrame'>\n",
      "Int64Index: 16717 entries, 0 to 16718\n",
      "Data columns (total 14 columns):\n",
      " #   Column           Non-Null Count  Dtype  \n",
      "---  ------           --------------  -----  \n",
      " 0   Name             16717 non-null  object \n",
      " 1   Platform         16717 non-null  object \n",
      " 2   Year_of_Release  16717 non-null  object \n",
      " 3   Genre            16717 non-null  object \n",
      " 4   Publisher        16717 non-null  object \n",
      " 5   NA_Sales         16717 non-null  float64\n",
      " 6   EU_Sales         16717 non-null  float64\n",
      " 7   JP_Sales         16717 non-null  float64\n",
      " 8   Critic_Score     16717 non-null  float64\n",
      " 9   Critic_Count     16717 non-null  float64\n",
      " 10  User_Score       7590 non-null   float64\n",
      " 11  User_Count       7590 non-null   float64\n",
      " 12  Developer        10096 non-null  object \n",
      " 13  Rating           9950 non-null   object \n",
      "dtypes: float64(7), object(7)\n",
      "memory usage: 1.9+ MB\n"
     ]
    }
   ],
   "source": [
    "data.info()"
   ]
  },
  {
   "cell_type": "code",
   "execution_count": 60,
   "id": "3bbc65d3",
   "metadata": {},
   "outputs": [
    {
     "data": {
      "text/plain": [
       "9127"
      ]
     },
     "execution_count": 60,
     "metadata": {},
     "output_type": "execute_result"
    }
   ],
   "source": [
    "data.User_Score.isnull().sum()"
   ]
  },
  {
   "cell_type": "code",
   "execution_count": 61,
   "id": "92278306",
   "metadata": {},
   "outputs": [],
   "source": [
    "for j in data[data['User_Score'].isnull()].index.tolist():\n",
    "    data.User_Score.iloc[j] =  data.User_Score[data['Publisher']==data['Publisher'].iloc[j]].mean()"
   ]
  },
  {
   "cell_type": "code",
   "execution_count": 62,
   "id": "512b7ba8",
   "metadata": {},
   "outputs": [
    {
     "data": {
      "text/plain": [
       "4213"
      ]
     },
     "execution_count": 62,
     "metadata": {},
     "output_type": "execute_result"
    }
   ],
   "source": [
    "data.User_Score.isnull().sum()"
   ]
  },
  {
   "cell_type": "code",
   "execution_count": 63,
   "id": "2c221ab0",
   "metadata": {},
   "outputs": [],
   "source": [
    "data.User_Score.fillna(data.User_Score.mean(),inplace=True)"
   ]
  },
  {
   "cell_type": "code",
   "execution_count": 64,
   "id": "d68cfc0e",
   "metadata": {},
   "outputs": [
    {
     "data": {
      "text/plain": [
       "0"
      ]
     },
     "execution_count": 64,
     "metadata": {},
     "output_type": "execute_result"
    }
   ],
   "source": [
    "data.User_Score.isnull().sum()"
   ]
  },
  {
   "cell_type": "code",
   "execution_count": 65,
   "id": "93f282f3",
   "metadata": {},
   "outputs": [
    {
     "data": {
      "text/plain": [
       "{'whiskers': [<matplotlib.lines.Line2D at 0x21179c75f40>,\n",
       "  <matplotlib.lines.Line2D at 0x21179c83310>],\n",
       " 'caps': [<matplotlib.lines.Line2D at 0x21179c836a0>,\n",
       "  <matplotlib.lines.Line2D at 0x21179c83a30>],\n",
       " 'boxes': [<matplotlib.lines.Line2D at 0x21179c75bb0>],\n",
       " 'medians': [<matplotlib.lines.Line2D at 0x21179c83dc0>],\n",
       " 'fliers': [<matplotlib.lines.Line2D at 0x21179c8d190>],\n",
       " 'means': []}"
      ]
     },
     "execution_count": 65,
     "metadata": {},
     "output_type": "execute_result"
    },
    {
     "data": {
      "image/png": "[encoded data removed]",
      "text/plain": [
       "<Figure size 432x288 with 1 Axes>"
      ]
     },
     "metadata": {
      "needs_background": "light"
     },
     "output_type": "display_data"
    }
   ],
   "source": [
    "plt.boxplot(data.User_Score)"
   ]
  },
  {
   "cell_type": "markdown",
   "id": "75391bf6",
   "metadata": {},
   "source": [
    "# User count"
   ]
  },
  {
   "cell_type": "markdown",
   "id": "8db9398f",
   "metadata": {},
   "source": [
    "\n",
    "<H3>I have filled null values of user count by</H3>\n",
    "<h4>1.I have filled some null values of user count by publisher with the user count which is equal to null values of user count</h4>\n",
    "<h4>2.I have filled some null values of user count by critic score with the user count which is equal to null values of user count</h4>\n",
    "<h4>3.I have filled some null values of user count by genre with the user count which is equal to null values of critic score</h4>\n",
    "<h4>4.I have filled remaining null values of user count by mean</h4>"
   ]
  },
  {
   "cell_type": "code",
   "execution_count": 66,
   "id": "6d909861",
   "metadata": {},
   "outputs": [
    {
     "data": {
      "text/plain": [
       "888"
      ]
     },
     "execution_count": 66,
     "metadata": {},
     "output_type": "execute_result"
    }
   ],
   "source": [
    "data.User_Count.nunique()"
   ]
  },
  {
   "cell_type": "code",
   "execution_count": 67,
   "id": "d57b4b4b",
   "metadata": {},
   "outputs": [
    {
     "data": {
      "text/plain": [
       "(16717,)"
      ]
     },
     "execution_count": 67,
     "metadata": {},
     "output_type": "execute_result"
    }
   ],
   "source": [
    "data.User_Count.shape"
   ]
  },
  {
   "cell_type": "code",
   "execution_count": 68,
   "id": "c70043bf",
   "metadata": {},
   "outputs": [
    {
     "data": {
      "text/plain": [
       "9127"
      ]
     },
     "execution_count": 68,
     "metadata": {},
     "output_type": "execute_result"
    }
   ],
   "source": [
    "data.User_Count.isnull().sum()"
   ]
  },
  {
   "cell_type": "code",
   "execution_count": 69,
   "id": "54d0aa87",
   "metadata": {},
   "outputs": [
    {
     "name": "stderr",
     "output_type": "stream",
     "text": [
      "C:\\ProgramData\\Anaconda3\\lib\\site-packages\\pandas\\core\\indexing.py:1732: SettingWithCopyWarning: \n",
      "A value is trying to be set on a copy of a slice from a DataFrame\n",
      "\n",
      "See the caveats in the documentation: https://pandas.pydata.org/pandas-docs/stable/user_guide/indexing.html#returning-a-view-versus-a-copy\n",
      "  self._setitem_single_block(indexer, value, name)\n"
     ]
    }
   ],
   "source": [
    "for j in data[data['User_Count'].isnull()].index.tolist():\n",
    "    data.User_Count.iloc[j] =  data.User_Count[data['Publisher']==data['Publisher'].iloc[j]].mode().max()"
   ]
  },
  {
   "cell_type": "code",
   "execution_count": 70,
   "id": "4b30b26d",
   "metadata": {},
   "outputs": [
    {
     "data": {
      "text/plain": [
       "4213"
      ]
     },
     "execution_count": 70,
     "metadata": {},
     "output_type": "execute_result"
    }
   ],
   "source": [
    "data.User_Count.isnull().sum()"
   ]
  },
  {
   "cell_type": "code",
   "execution_count": 71,
   "id": "33c7a05f",
   "metadata": {},
   "outputs": [],
   "source": [
    "for j in data[data['User_Count'].isnull()].index.tolist():\n",
    "    data.User_Count.iloc[j] =  data.User_Count[data['Critic_Score']==data['Critic_Score'].iloc[j]].mean()"
   ]
  },
  {
   "cell_type": "code",
   "execution_count": 72,
   "id": "03c06103",
   "metadata": {},
   "outputs": [
    {
     "data": {
      "text/plain": [
       "4023"
      ]
     },
     "execution_count": 72,
     "metadata": {},
     "output_type": "execute_result"
    }
   ],
   "source": [
    "data.User_Count.isnull().sum()"
   ]
  },
  {
   "cell_type": "code",
   "execution_count": 73,
   "id": "4062e197",
   "metadata": {},
   "outputs": [],
   "source": [
    "for j in data[data['User_Count'].isnull()].index.tolist():\n",
    "    data.User_Count.iloc[j] =  data.User_Count[data['Genre']==data['Genre'].iloc[j]].mean()"
   ]
  },
  {
   "cell_type": "code",
   "execution_count": 74,
   "id": "b007e6ad",
   "metadata": {},
   "outputs": [
    {
     "data": {
      "text/plain": [
       "3922"
      ]
     },
     "execution_count": 74,
     "metadata": {},
     "output_type": "execute_result"
    }
   ],
   "source": [
    "data.User_Count.isnull().sum()"
   ]
  },
  {
   "cell_type": "code",
   "execution_count": 75,
   "id": "90d6b3c5",
   "metadata": {},
   "outputs": [],
   "source": [
    "data.User_Count.fillna(data.User_Count.mean(),inplace=True)"
   ]
  },
  {
   "cell_type": "code",
   "execution_count": 76,
   "id": "0bb06010",
   "metadata": {},
   "outputs": [
    {
     "data": {
      "text/plain": [
       "0"
      ]
     },
     "execution_count": 76,
     "metadata": {},
     "output_type": "execute_result"
    }
   ],
   "source": [
    "data.User_Count.isnull().sum()"
   ]
  },
  {
   "cell_type": "markdown",
   "id": "be8450a2",
   "metadata": {},
   "source": [
    "# DEVELOPER"
   ]
  },
  {
   "cell_type": "markdown",
   "id": "cc8f0742",
   "metadata": {},
   "source": [
    "<H3>I have filled null values of developer by</H3>\n",
    "<h4>1.I have filled some null values of developer by publisher with the developer which is equal to null values of developer</h4>\n",
    "<h4>2.I have filled some null values of developer by platform with the developer which is equal to null values of developer</h4>\n",
    "<h4>3.I have filled remaining null values of developer by \"unknown developer</h4>"
   ]
  },
  {
   "cell_type": "code",
   "execution_count": 77,
   "id": "835d60c6",
   "metadata": {},
   "outputs": [
    {
     "data": {
      "text/plain": [
       "1696"
      ]
     },
     "execution_count": 77,
     "metadata": {},
     "output_type": "execute_result"
    }
   ],
   "source": [
    "data.Developer.nunique()"
   ]
  },
  {
   "cell_type": "code",
   "execution_count": 78,
   "id": "57835cf7",
   "metadata": {},
   "outputs": [
    {
     "data": {
      "text/plain": [
       "6621"
      ]
     },
     "execution_count": 78,
     "metadata": {},
     "output_type": "execute_result"
    }
   ],
   "source": [
    "data.Developer.isnull().sum()"
   ]
  },
  {
   "cell_type": "code",
   "execution_count": 79,
   "id": "3585d380",
   "metadata": {},
   "outputs": [],
   "source": [
    "for j in data[data['Developer'].isnull()].index.tolist():\n",
    "    data.Developer.iloc[j] =  data.Developer[data['Publisher']==data['Publisher'].iloc[j]].mode().max()"
   ]
  },
  {
   "cell_type": "code",
   "execution_count": 80,
   "id": "27275ac5",
   "metadata": {},
   "outputs": [
    {
     "data": {
      "text/plain": [
       "3980"
      ]
     },
     "execution_count": 80,
     "metadata": {},
     "output_type": "execute_result"
    }
   ],
   "source": [
    "data.Developer.isnull().sum()"
   ]
  },
  {
   "cell_type": "code",
   "execution_count": 81,
   "id": "7b1b66fb",
   "metadata": {},
   "outputs": [],
   "source": [
    "for j in data[data['Developer'].isnull()].index.tolist():\n",
    "    data.Developer.iloc[j] =  data.Developer[data['Platform']==data['Platform'].iloc[j]].mode().max()"
   ]
  },
  {
   "cell_type": "code",
   "execution_count": 82,
   "id": "ee1084d1",
   "metadata": {},
   "outputs": [
    {
     "data": {
      "text/plain": [
       "3773"
      ]
     },
     "execution_count": 82,
     "metadata": {},
     "output_type": "execute_result"
    }
   ],
   "source": [
    "data.Developer.isnull().sum()"
   ]
  },
  {
   "cell_type": "code",
   "execution_count": 83,
   "id": "cdf116cb",
   "metadata": {},
   "outputs": [],
   "source": [
    "data.Developer.fillna(\"Unknown Developer\",inplace=True)"
   ]
  },
  {
   "cell_type": "code",
   "execution_count": 84,
   "id": "70fe2882",
   "metadata": {},
   "outputs": [
    {
     "data": {
      "text/plain": [
       "0"
      ]
     },
     "execution_count": 84,
     "metadata": {},
     "output_type": "execute_result"
    }
   ],
   "source": [
    "data.Developer.isnull().sum()"
   ]
  },
  {
   "cell_type": "markdown",
   "id": "18f6238d",
   "metadata": {},
   "source": [
    "# RATING"
   ]
  },
  {
   "cell_type": "markdown",
   "id": "52fe79f1",
   "metadata": {},
   "source": [
    "<H3>I have filled null values of rating by</H3>\n",
    "<h4>1.I have filled some null values of rating by publisher with the rating which is equal to null values of rating</h4>\n",
    "<h4>2.I have filled some null values of rating by user score with the rating which is equal to null values of rating</h4>\n",
    "<h4>3.I have filled some null values of rating by genre with the rating which is equal to null values of rating</h4>\n",
    "<h4>4.I have filled remaining null values of user count by \"unknown grade\"</h4>"
   ]
  },
  {
   "cell_type": "code",
   "execution_count": 85,
   "id": "8a36e797",
   "metadata": {},
   "outputs": [
    {
     "data": {
      "text/plain": [
       "6767"
      ]
     },
     "execution_count": 85,
     "metadata": {},
     "output_type": "execute_result"
    }
   ],
   "source": [
    "data.Rating.isnull().sum()"
   ]
  },
  {
   "cell_type": "code",
   "execution_count": 86,
   "id": "08af768e",
   "metadata": {},
   "outputs": [],
   "source": [
    "for j in data[data['Rating'].isnull()].index.tolist():\n",
    "    data.Rating.iloc[j] =  data.Rating[data['Publisher']==data['Publisher'].iloc[j]].mode().max()"
   ]
  },
  {
   "cell_type": "code",
   "execution_count": 87,
   "id": "ace1c71a",
   "metadata": {},
   "outputs": [
    {
     "data": {
      "text/plain": [
       "4012"
      ]
     },
     "execution_count": 87,
     "metadata": {},
     "output_type": "execute_result"
    }
   ],
   "source": [
    "data.Rating.isnull().sum()"
   ]
  },
  {
   "cell_type": "code",
   "execution_count": 88,
   "id": "be966e4c",
   "metadata": {},
   "outputs": [],
   "source": [
    "for j in data[data['Rating'].isnull()].index.tolist():\n",
    "    data.Rating.iloc[j] =  data.Rating[data['User_Score']==data['User_Score'].iloc[j]].mode().max()"
   ]
  },
  {
   "cell_type": "code",
   "execution_count": 89,
   "id": "7749ebe4",
   "metadata": {},
   "outputs": [
    {
     "data": {
      "text/plain": [
       "3802"
      ]
     },
     "execution_count": 89,
     "metadata": {},
     "output_type": "execute_result"
    }
   ],
   "source": [
    "data.Rating.isnull().sum()"
   ]
  },
  {
   "cell_type": "code",
   "execution_count": 90,
   "id": "ffe2882e",
   "metadata": {},
   "outputs": [],
   "source": [
    "for j in data[data['Rating'].isnull()].index.tolist():\n",
    "    data.Rating.iloc[j] =  data.Rating[data['Genre']==data['Genre'].iloc[j]].mode().max()"
   ]
  },
  {
   "cell_type": "code",
   "execution_count": 91,
   "id": "fc088747",
   "metadata": {},
   "outputs": [
    {
     "data": {
      "text/plain": [
       "3801"
      ]
     },
     "execution_count": 91,
     "metadata": {},
     "output_type": "execute_result"
    }
   ],
   "source": [
    "data.Rating.isnull().sum()"
   ]
  },
  {
   "cell_type": "code",
   "execution_count": 92,
   "id": "a533b283",
   "metadata": {},
   "outputs": [],
   "source": [
    "data.Rating.fillna(\"Unknown grade\",inplace=True)"
   ]
  },
  {
   "cell_type": "code",
   "execution_count": 93,
   "id": "80310f97",
   "metadata": {},
   "outputs": [
    {
     "data": {
      "text/plain": [
       "0"
      ]
     },
     "execution_count": 93,
     "metadata": {},
     "output_type": "execute_result"
    }
   ],
   "source": [
    "data.Rating.isnull().sum()"
   ]
  },
  {
   "cell_type": "markdown",
   "id": "7ceeb683",
   "metadata": {},
   "source": [
    "# Dropping the name columns for dummies"
   ]
  },
  {
   "cell_type": "code",
   "execution_count": 94,
   "id": "26c434cc",
   "metadata": {},
   "outputs": [],
   "source": [
    "data.drop(\"Name\",axis=1,inplace=True)"
   ]
  },
  {
   "cell_type": "code",
   "execution_count": 95,
   "id": "72bcc273",
   "metadata": {},
   "outputs": [
    {
     "name": "stdout",
     "output_type": "stream",
     "text": [
      "<class 'pandas.core.frame.DataFrame'>\n",
      "Int64Index: 16717 entries, 0 to 16718\n",
      "Data columns (total 13 columns):\n",
      " #   Column           Non-Null Count  Dtype  \n",
      "---  ------           --------------  -----  \n",
      " 0   Platform         16717 non-null  object \n",
      " 1   Year_of_Release  16717 non-null  object \n",
      " 2   Genre            16717 non-null  object \n",
      " 3   Publisher        16717 non-null  object \n",
      " 4   NA_Sales         16717 non-null  float64\n",
      " 5   EU_Sales         16717 non-null  float64\n",
      " 6   JP_Sales         16717 non-null  float64\n",
      " 7   Critic_Score     16717 non-null  float64\n",
      " 8   Critic_Count     16717 non-null  float64\n",
      " 9   User_Score       16717 non-null  float64\n",
      " 10  User_Count       16717 non-null  float64\n",
      " 11  Developer        16717 non-null  object \n",
      " 12  Rating           16717 non-null  object \n",
      "dtypes: float64(7), object(6)\n",
      "memory usage: 1.8+ MB\n"
     ]
    }
   ],
   "source": [
    "data.info()"
   ]
  },
  {
   "cell_type": "markdown",
   "id": "5ba45846",
   "metadata": {},
   "source": [
    "<h3>Creating the dummies for the data which contains only x variable of train and test</h3>"
   ]
  },
  {
   "cell_type": "code",
   "execution_count": 96,
   "id": "7742546e",
   "metadata": {},
   "outputs": [
    {
     "data": {
      "text/html": [
       "<div>\n",
       "<style scoped>\n",
       "    .dataframe tbody tr th:only-of-type {\n",
       "        vertical-align: middle;\n",
       "    }\n",
       "\n",
       "    .dataframe tbody tr th {\n",
       "        vertical-align: top;\n",
       "    }\n",
       "\n",
       "    .dataframe thead th {\n",
       "        text-align: right;\n",
       "    }\n",
       "</style>\n",
       "<table border=\"1\" class=\"dataframe\">\n",
       "  <thead>\n",
       "    <tr style=\"text-align: right;\">\n",
       "      <th></th>\n",
       "      <th>NA_Sales</th>\n",
       "      <th>EU_Sales</th>\n",
       "      <th>JP_Sales</th>\n",
       "      <th>Critic_Score</th>\n",
       "      <th>Critic_Count</th>\n",
       "      <th>User_Score</th>\n",
       "      <th>User_Count</th>\n",
       "      <th>Platform_2600</th>\n",
       "      <th>Platform_3DO</th>\n",
       "      <th>Platform_3DS</th>\n",
       "      <th>...</th>\n",
       "      <th>Developer_syn Sophia</th>\n",
       "      <th>Rating_AO</th>\n",
       "      <th>Rating_E</th>\n",
       "      <th>Rating_E10+</th>\n",
       "      <th>Rating_EC</th>\n",
       "      <th>Rating_K-A</th>\n",
       "      <th>Rating_M</th>\n",
       "      <th>Rating_RP</th>\n",
       "      <th>Rating_T</th>\n",
       "      <th>Rating_Unknown grade</th>\n",
       "    </tr>\n",
       "  </thead>\n",
       "  <tbody>\n",
       "    <tr>\n",
       "      <th>0</th>\n",
       "      <td>41.36</td>\n",
       "      <td>28.96</td>\n",
       "      <td>3.77</td>\n",
       "      <td>76.000000</td>\n",
       "      <td>51.0</td>\n",
       "      <td>8.000000</td>\n",
       "      <td>322.000000</td>\n",
       "      <td>0</td>\n",
       "      <td>0</td>\n",
       "      <td>0</td>\n",
       "      <td>...</td>\n",
       "      <td>0</td>\n",
       "      <td>0</td>\n",
       "      <td>1</td>\n",
       "      <td>0</td>\n",
       "      <td>0</td>\n",
       "      <td>0</td>\n",
       "      <td>0</td>\n",
       "      <td>0</td>\n",
       "      <td>0</td>\n",
       "      <td>0</td>\n",
       "    </tr>\n",
       "    <tr>\n",
       "      <th>1</th>\n",
       "      <td>29.08</td>\n",
       "      <td>3.58</td>\n",
       "      <td>6.81</td>\n",
       "      <td>75.525806</td>\n",
       "      <td>42.0</td>\n",
       "      <td>7.918707</td>\n",
       "      <td>27.000000</td>\n",
       "      <td>0</td>\n",
       "      <td>0</td>\n",
       "      <td>0</td>\n",
       "      <td>...</td>\n",
       "      <td>0</td>\n",
       "      <td>0</td>\n",
       "      <td>1</td>\n",
       "      <td>0</td>\n",
       "      <td>0</td>\n",
       "      <td>0</td>\n",
       "      <td>0</td>\n",
       "      <td>0</td>\n",
       "      <td>0</td>\n",
       "      <td>0</td>\n",
       "    </tr>\n",
       "    <tr>\n",
       "      <th>2</th>\n",
       "      <td>15.68</td>\n",
       "      <td>12.76</td>\n",
       "      <td>3.79</td>\n",
       "      <td>82.000000</td>\n",
       "      <td>73.0</td>\n",
       "      <td>8.300000</td>\n",
       "      <td>709.000000</td>\n",
       "      <td>0</td>\n",
       "      <td>0</td>\n",
       "      <td>0</td>\n",
       "      <td>...</td>\n",
       "      <td>0</td>\n",
       "      <td>0</td>\n",
       "      <td>1</td>\n",
       "      <td>0</td>\n",
       "      <td>0</td>\n",
       "      <td>0</td>\n",
       "      <td>0</td>\n",
       "      <td>0</td>\n",
       "      <td>0</td>\n",
       "      <td>0</td>\n",
       "    </tr>\n",
       "    <tr>\n",
       "      <th>3</th>\n",
       "      <td>15.61</td>\n",
       "      <td>10.93</td>\n",
       "      <td>3.28</td>\n",
       "      <td>80.000000</td>\n",
       "      <td>73.0</td>\n",
       "      <td>8.000000</td>\n",
       "      <td>192.000000</td>\n",
       "      <td>0</td>\n",
       "      <td>0</td>\n",
       "      <td>0</td>\n",
       "      <td>...</td>\n",
       "      <td>0</td>\n",
       "      <td>0</td>\n",
       "      <td>1</td>\n",
       "      <td>0</td>\n",
       "      <td>0</td>\n",
       "      <td>0</td>\n",
       "      <td>0</td>\n",
       "      <td>0</td>\n",
       "      <td>0</td>\n",
       "      <td>0</td>\n",
       "    </tr>\n",
       "    <tr>\n",
       "      <th>4</th>\n",
       "      <td>11.27</td>\n",
       "      <td>8.89</td>\n",
       "      <td>10.22</td>\n",
       "      <td>75.525806</td>\n",
       "      <td>42.0</td>\n",
       "      <td>7.918707</td>\n",
       "      <td>27.000000</td>\n",
       "      <td>0</td>\n",
       "      <td>0</td>\n",
       "      <td>0</td>\n",
       "      <td>...</td>\n",
       "      <td>0</td>\n",
       "      <td>0</td>\n",
       "      <td>1</td>\n",
       "      <td>0</td>\n",
       "      <td>0</td>\n",
       "      <td>0</td>\n",
       "      <td>0</td>\n",
       "      <td>0</td>\n",
       "      <td>0</td>\n",
       "      <td>0</td>\n",
       "    </tr>\n",
       "    <tr>\n",
       "      <th>...</th>\n",
       "      <td>...</td>\n",
       "      <td>...</td>\n",
       "      <td>...</td>\n",
       "      <td>...</td>\n",
       "      <td>...</td>\n",
       "      <td>...</td>\n",
       "      <td>...</td>\n",
       "      <td>...</td>\n",
       "      <td>...</td>\n",
       "      <td>...</td>\n",
       "      <td>...</td>\n",
       "      <td>...</td>\n",
       "      <td>...</td>\n",
       "      <td>...</td>\n",
       "      <td>...</td>\n",
       "      <td>...</td>\n",
       "      <td>...</td>\n",
       "      <td>...</td>\n",
       "      <td>...</td>\n",
       "      <td>...</td>\n",
       "      <td>...</td>\n",
       "    </tr>\n",
       "    <tr>\n",
       "      <th>16714</th>\n",
       "      <td>0.05</td>\n",
       "      <td>0.00</td>\n",
       "      <td>0.00</td>\n",
       "      <td>61.000000</td>\n",
       "      <td>6.0</td>\n",
       "      <td>8.000000</td>\n",
       "      <td>8.000000</td>\n",
       "      <td>0</td>\n",
       "      <td>0</td>\n",
       "      <td>0</td>\n",
       "      <td>...</td>\n",
       "      <td>0</td>\n",
       "      <td>0</td>\n",
       "      <td>0</td>\n",
       "      <td>0</td>\n",
       "      <td>0</td>\n",
       "      <td>0</td>\n",
       "      <td>1</td>\n",
       "      <td>0</td>\n",
       "      <td>0</td>\n",
       "      <td>0</td>\n",
       "    </tr>\n",
       "    <tr>\n",
       "      <th>16715</th>\n",
       "      <td>0.00</td>\n",
       "      <td>0.05</td>\n",
       "      <td>0.00</td>\n",
       "      <td>71.000000</td>\n",
       "      <td>41.0</td>\n",
       "      <td>6.900000</td>\n",
       "      <td>203.000000</td>\n",
       "      <td>0</td>\n",
       "      <td>0</td>\n",
       "      <td>0</td>\n",
       "      <td>...</td>\n",
       "      <td>0</td>\n",
       "      <td>0</td>\n",
       "      <td>0</td>\n",
       "      <td>0</td>\n",
       "      <td>0</td>\n",
       "      <td>0</td>\n",
       "      <td>1</td>\n",
       "      <td>0</td>\n",
       "      <td>0</td>\n",
       "      <td>0</td>\n",
       "    </tr>\n",
       "    <tr>\n",
       "      <th>16716</th>\n",
       "      <td>0.06</td>\n",
       "      <td>0.00</td>\n",
       "      <td>0.00</td>\n",
       "      <td>69.002406</td>\n",
       "      <td>113.0</td>\n",
       "      <td>7.151391</td>\n",
       "      <td>116.060545</td>\n",
       "      <td>0</td>\n",
       "      <td>0</td>\n",
       "      <td>0</td>\n",
       "      <td>...</td>\n",
       "      <td>0</td>\n",
       "      <td>0</td>\n",
       "      <td>0</td>\n",
       "      <td>0</td>\n",
       "      <td>0</td>\n",
       "      <td>0</td>\n",
       "      <td>0</td>\n",
       "      <td>0</td>\n",
       "      <td>0</td>\n",
       "      <td>1</td>\n",
       "    </tr>\n",
       "    <tr>\n",
       "      <th>16717</th>\n",
       "      <td>0.00</td>\n",
       "      <td>0.05</td>\n",
       "      <td>0.00</td>\n",
       "      <td>58.000000</td>\n",
       "      <td>5.0</td>\n",
       "      <td>7.500000</td>\n",
       "      <td>4.000000</td>\n",
       "      <td>0</td>\n",
       "      <td>0</td>\n",
       "      <td>0</td>\n",
       "      <td>...</td>\n",
       "      <td>0</td>\n",
       "      <td>0</td>\n",
       "      <td>0</td>\n",
       "      <td>1</td>\n",
       "      <td>0</td>\n",
       "      <td>0</td>\n",
       "      <td>0</td>\n",
       "      <td>0</td>\n",
       "      <td>0</td>\n",
       "      <td>0</td>\n",
       "    </tr>\n",
       "    <tr>\n",
       "      <th>16718</th>\n",
       "      <td>0.05</td>\n",
       "      <td>0.00</td>\n",
       "      <td>0.00</td>\n",
       "      <td>67.868451</td>\n",
       "      <td>9.0</td>\n",
       "      <td>7.274054</td>\n",
       "      <td>137.034146</td>\n",
       "      <td>0</td>\n",
       "      <td>0</td>\n",
       "      <td>0</td>\n",
       "      <td>...</td>\n",
       "      <td>0</td>\n",
       "      <td>0</td>\n",
       "      <td>1</td>\n",
       "      <td>0</td>\n",
       "      <td>0</td>\n",
       "      <td>0</td>\n",
       "      <td>0</td>\n",
       "      <td>0</td>\n",
       "      <td>0</td>\n",
       "      <td>0</td>\n",
       "    </tr>\n",
       "  </tbody>\n",
       "</table>\n",
       "<p>16717 rows × 2048 columns</p>\n",
       "</div>"
      ],
      "text/plain": [
       "       NA_Sales  EU_Sales  JP_Sales  Critic_Score  Critic_Count  User_Score  \\\n",
       "0         41.36     28.96      3.77     76.000000          51.0    8.000000   \n",
       "1         29.08      3.58      6.81     75.525806          42.0    7.918707   \n",
       "2         15.68     12.76      3.79     82.000000          73.0    8.300000   \n",
       "3         15.61     10.93      3.28     80.000000          73.0    8.000000   \n",
       "4         11.27      8.89     10.22     75.525806          42.0    7.918707   \n",
       "...         ...       ...       ...           ...           ...         ...   \n",
       "16714      0.05      0.00      0.00     61.000000           6.0    8.000000   \n",
       "16715      0.00      0.05      0.00     71.000000          41.0    6.900000   \n",
       "16716      0.06      0.00      0.00     69.002406         113.0    7.151391   \n",
       "16717      0.00      0.05      0.00     58.000000           5.0    7.500000   \n",
       "16718      0.05      0.00      0.00     67.868451           9.0    7.274054   \n",
       "\n",
       "       User_Count  Platform_2600  Platform_3DO  Platform_3DS  ...  \\\n",
       "0      322.000000              0             0             0  ...   \n",
       "1       27.000000              0             0             0  ...   \n",
       "2      709.000000              0             0             0  ...   \n",
       "3      192.000000              0             0             0  ...   \n",
       "4       27.000000              0             0             0  ...   \n",
       "...           ...            ...           ...           ...  ...   \n",
       "16714    8.000000              0             0             0  ...   \n",
       "16715  203.000000              0             0             0  ...   \n",
       "16716  116.060545              0             0             0  ...   \n",
       "16717    4.000000              0             0             0  ...   \n",
       "16718  137.034146              0             0             0  ...   \n",
       "\n",
       "       Developer_syn Sophia  Rating_AO  Rating_E  Rating_E10+  Rating_EC  \\\n",
       "0                         0          0         1            0          0   \n",
       "1                         0          0         1            0          0   \n",
       "2                         0          0         1            0          0   \n",
       "3                         0          0         1            0          0   \n",
       "4                         0          0         1            0          0   \n",
       "...                     ...        ...       ...          ...        ...   \n",
       "16714                     0          0         0            0          0   \n",
       "16715                     0          0         0            0          0   \n",
       "16716                     0          0         0            0          0   \n",
       "16717                     0          0         0            1          0   \n",
       "16718                     0          0         1            0          0   \n",
       "\n",
       "       Rating_K-A  Rating_M  Rating_RP  Rating_T  Rating_Unknown grade  \n",
       "0               0         0          0         0                     0  \n",
       "1               0         0          0         0                     0  \n",
       "2               0         0          0         0                     0  \n",
       "3               0         0          0         0                     0  \n",
       "4               0         0          0         0                     0  \n",
       "...           ...       ...        ...       ...                   ...  \n",
       "16714           0         1          0         0                     0  \n",
       "16715           0         1          0         0                     0  \n",
       "16716           0         0          0         0                     1  \n",
       "16717           0         0          0         0                     0  \n",
       "16718           0         0          0         0                     0  \n",
       "\n",
       "[16717 rows x 2048 columns]"
      ]
     },
     "execution_count": 96,
     "metadata": {},
     "output_type": "execute_result"
    }
   ],
   "source": [
    "dummies=pd.get_dummies(data)\n",
    "dummies"
   ]
  },
  {
   "cell_type": "code",
   "execution_count": 97,
   "id": "a5dd2dbd",
   "metadata": {},
   "outputs": [
    {
     "data": {
      "text/plain": [
       "Index(['NA_Sales', 'EU_Sales', 'JP_Sales', 'Critic_Score', 'Critic_Count',\n",
       "       'User_Score', 'User_Count', 'Platform_2600', 'Platform_3DO',\n",
       "       'Platform_3DS',\n",
       "       ...\n",
       "       'Developer_syn Sophia', 'Rating_AO', 'Rating_E', 'Rating_E10+',\n",
       "       'Rating_EC', 'Rating_K-A', 'Rating_M', 'Rating_RP', 'Rating_T',\n",
       "       'Rating_Unknown grade'],\n",
       "      dtype='object', length=2048)"
      ]
     },
     "execution_count": 97,
     "metadata": {},
     "output_type": "execute_result"
    }
   ],
   "source": [
    "dummies.columns"
   ]
  },
  {
   "cell_type": "markdown",
   "id": "3f676434",
   "metadata": {},
   "source": [
    "<h3>Seperating the dummies as train and test data</h3>"
   ]
  },
  {
   "cell_type": "code",
   "execution_count": 98,
   "id": "a78b83dd",
   "metadata": {},
   "outputs": [
    {
     "data": {
      "text/plain": [
       "(14576, 14)"
      ]
     },
     "execution_count": 98,
     "metadata": {},
     "output_type": "execute_result"
    }
   ],
   "source": [
    "x_train.shape"
   ]
  },
  {
   "cell_type": "code",
   "execution_count": 99,
   "id": "f258ffed",
   "metadata": {},
   "outputs": [
    {
     "data": {
      "text/plain": [
       "(14576, 2048)"
      ]
     },
     "execution_count": 99,
     "metadata": {},
     "output_type": "execute_result"
    }
   ],
   "source": [
    "train_data=dummies.iloc[:14576]\n",
    "train_data.shape"
   ]
  },
  {
   "cell_type": "code",
   "execution_count": 100,
   "id": "1e3307ae",
   "metadata": {
    "scrolled": true
   },
   "outputs": [
    {
     "data": {
      "text/plain": [
       "(2141, 2048)"
      ]
     },
     "execution_count": 100,
     "metadata": {},
     "output_type": "execute_result"
    }
   ],
   "source": [
    "test_data=dummies.iloc[14576:]\n",
    "test_data.shape"
   ]
  },
  {
   "cell_type": "markdown",
   "id": "55b2f2da",
   "metadata": {},
   "source": [
    "<h3>Spliting the train and test data into train_x,train_y,test_x,test_y</h3>"
   ]
  },
  {
   "cell_type": "code",
   "execution_count": 101,
   "id": "083e222b",
   "metadata": {},
   "outputs": [],
   "source": [
    "from sklearn.model_selection import train_test_split\n"
   ]
  },
  {
   "cell_type": "code",
   "execution_count": 102,
   "id": "87de3486",
   "metadata": {},
   "outputs": [],
   "source": [
    "x=train_data\n",
    "y=train.Global_Sales"
   ]
  },
  {
   "cell_type": "code",
   "execution_count": 103,
   "id": "26361d51",
   "metadata": {},
   "outputs": [],
   "source": [
    "train_x,test_x,train_y,test_y=train_test_split(x,y,test_size=0.2,random_state=5)"
   ]
  },
  {
   "cell_type": "markdown",
   "id": "0849a216",
   "metadata": {},
   "source": [
    "<H1>MODELS</H1>"
   ]
  },
  {
   "cell_type": "code",
   "execution_count": 104,
   "id": "35f50004",
   "metadata": {},
   "outputs": [
    {
     "name": "stdout",
     "output_type": "stream",
     "text": [
      "Requirement already satisfied: xgboost in c:\\programdata\\anaconda3\\lib\\site-packages (1.6.0)\n",
      "Requirement already satisfied: numpy in c:\\programdata\\anaconda3\\lib\\site-packages (from xgboost) (1.20.3)\n",
      "Requirement already satisfied: scipy in c:\\programdata\\anaconda3\\lib\\site-packages (from xgboost) (1.7.1)\n",
      "Note: you may need to restart the kernel to use updated packages.\n"
     ]
    }
   ],
   "source": [
    "pip install xgboost"
   ]
  },
  {
   "cell_type": "code",
   "execution_count": 105,
   "id": "87249db0",
   "metadata": {},
   "outputs": [],
   "source": [
    "\n",
    "from sklearn.linear_model import LinearRegression\n",
    "from sklearn.linear_model import Ridge\n",
    "from sklearn.tree import DecisionTreeRegressor\n",
    "from sklearn.ensemble import ExtraTreesRegressor\n",
    "from sklearn.ensemble import RandomForestRegressor\n",
    "import xgboost\n",
    "from sklearn.ensemble import AdaBoostRegressor\n",
    "from sklearn.ensemble import GradientBoostingRegressor\n",
    "from sklearn.neighbors import KNeighborsRegressor\n",
    "from sklearn.ensemble import StackingRegressor\n",
    "from sklearn.metrics import r2_score\n",
    "from sklearn.model_selection import cross_validate\n",
    "from sklearn.metrics import mean_squared_error"
   ]
  },
  {
   "cell_type": "code",
   "execution_count": 106,
   "id": "a93be5c3",
   "metadata": {},
   "outputs": [],
   "source": [
    "gbr = GradientBoostingRegressor(random_state=0)\n",
    "xgb = xgboost.XGBRegressor(n_jobs=-1)\n",
    "et = ExtraTreesRegressor(n_jobs=-1)\n",
    "rf = RandomForestRegressor(n_jobs=-1)\n",
    "ds = DecisionTreeRegressor()"
   ]
  },
  {
   "cell_type": "code",
   "execution_count": 107,
   "id": "9b5b982b",
   "metadata": {},
   "outputs": [],
   "source": [
    "reg = {\n",
    "\"LinearRegression\": LinearRegression(),\n",
    "\"KNeighborsRegressor\":KNeighborsRegressor(n_neighbors=2),\n",
    "\"AdaBoostRegressor\":AdaBoostRegressor(random_state=0, n_estimators=100),\n",
    "\"Ridge\": Ridge(alpha=1.0),\n",
    "\"GradientBoostingRegressor\":GradientBoostingRegressor(random_state=0),\n",
    "\"DecisionTreeRegressor\": DecisionTreeRegressor(),\n",
    "\"ExtraTreesRegressor\": ExtraTreesRegressor(n_jobs=-1),\n",
    "\"RandomForestRegressor\": RandomForestRegressor(n_jobs=-1),\n",
    "\"XGBRegressor\":xgboost.XGBRegressor(n_jobs=-1)\n",
    "}"
   ]
  },
  {
   "cell_type": "code",
   "execution_count": 108,
   "id": "4014c1a3",
   "metadata": {},
   "outputs": [
    {
     "name": "stdout",
     "output_type": "stream",
     "text": [
      "--------------------------------------------------------------\n",
      "Model: LinearRegression\n",
      "-----Data Evalution-----\n",
      "R2 Value:  0.982431380590121\n",
      "RMSE:  0.2087167020591551\n",
      "--------------------------------------------------------------\n",
      "Model: KNeighborsRegressor\n",
      "-----Data Evalution-----\n",
      "R2 Value:  0.31915310894505167\n",
      "RMSE:  1.2993110017305738\n",
      "--------------------------------------------------------------\n",
      "Model: AdaBoostRegressor\n",
      "-----Data Evalution-----\n",
      "R2 Value:  -0.04965686439223327\n",
      "RMSE:  1.613288587439107\n",
      "--------------------------------------------------------------\n",
      "Model: Ridge\n",
      "-----Data Evalution-----\n",
      "R2 Value:  0.9825147134768182\n",
      "RMSE:  0.20822111276821184\n",
      "--------------------------------------------------------------\n",
      "Model: GradientBoostingRegressor\n",
      "-----Data Evalution-----\n",
      "R2 Value:  0.983743850144637\n",
      "RMSE:  0.2007692670464012\n",
      "--------------------------------------------------------------\n",
      "Model: DecisionTreeRegressor\n",
      "-----Data Evalution-----\n",
      "R2 Value:  0.9293862565388172\n",
      "RMSE:  0.4184398176576552\n",
      "--------------------------------------------------------------\n",
      "Model: ExtraTreesRegressor\n",
      "-----Data Evalution-----\n",
      "R2 Value:  0.9764517037472115\n",
      "RMSE:  0.2416396132100968\n",
      "--------------------------------------------------------------\n",
      "Model: RandomForestRegressor\n",
      "-----Data Evalution-----\n",
      "R2 Value:  0.977096547764682\n",
      "RMSE:  0.23830813104154155\n",
      "--------------------------------------------------------------\n",
      "Model: XGBRegressor\n",
      "-----Data Evalution-----\n",
      "R2 Value:  0.9776756363114337\n",
      "RMSE:  0.2352761641375341\n"
     ]
    }
   ],
   "source": [
    "dic =  {\"Model\":[],\"R2_Score\":[],\"RMSE_Score\":[]}\n",
    "for name, model in reg.items():\n",
    "\n",
    "   \n",
    "  model.fit(train_x, train_y)\n",
    "  y_pre = model.predict(test_x)\n",
    "  r2 = r2_score(test_y, y_pre)\n",
    "  rmse  = np.sqrt(mean_squared_error(test_y, y_pre))\n",
    "  print(\"--------------------------------------------------------------\")\n",
    "  print(\"Model:\", name)\n",
    "  print(\"-----Data Evalution-----\")\n",
    "  print(\"R2 Value: \", r2_score(test_y, y_pre))\n",
    "  print(\"RMSE: \",np.sqrt(mean_squared_error(test_y, y_pre)))\n",
    "  dic[\"Model\"].append(name)\n",
    "  dic[\"R2_Score\"].append(r2)\n",
    "  dic[\"RMSE_Score\"].append(rmse)"
   ]
  },
  {
   "cell_type": "code",
   "execution_count": 109,
   "id": "c7611ffa",
   "metadata": {},
   "outputs": [
    {
     "data": {
      "text/html": [
       "<div>\n",
       "<style scoped>\n",
       "    .dataframe tbody tr th:only-of-type {\n",
       "        vertical-align: middle;\n",
       "    }\n",
       "\n",
       "    .dataframe tbody tr th {\n",
       "        vertical-align: top;\n",
       "    }\n",
       "\n",
       "    .dataframe thead th {\n",
       "        text-align: right;\n",
       "    }\n",
       "</style>\n",
       "<table border=\"1\" class=\"dataframe\">\n",
       "  <thead>\n",
       "    <tr style=\"text-align: right;\">\n",
       "      <th></th>\n",
       "      <th>Model</th>\n",
       "      <th>R2_Score</th>\n",
       "      <th>RMSE_Score</th>\n",
       "    </tr>\n",
       "  </thead>\n",
       "  <tbody>\n",
       "    <tr>\n",
       "      <th>0</th>\n",
       "      <td>LinearRegression</td>\n",
       "      <td>0.982431</td>\n",
       "      <td>0.208717</td>\n",
       "    </tr>\n",
       "    <tr>\n",
       "      <th>1</th>\n",
       "      <td>KNeighborsRegressor</td>\n",
       "      <td>0.319153</td>\n",
       "      <td>1.299311</td>\n",
       "    </tr>\n",
       "    <tr>\n",
       "      <th>2</th>\n",
       "      <td>AdaBoostRegressor</td>\n",
       "      <td>-0.049657</td>\n",
       "      <td>1.613289</td>\n",
       "    </tr>\n",
       "    <tr>\n",
       "      <th>3</th>\n",
       "      <td>Ridge</td>\n",
       "      <td>0.982515</td>\n",
       "      <td>0.208221</td>\n",
       "    </tr>\n",
       "    <tr>\n",
       "      <th>4</th>\n",
       "      <td>GradientBoostingRegressor</td>\n",
       "      <td>0.983744</td>\n",
       "      <td>0.200769</td>\n",
       "    </tr>\n",
       "    <tr>\n",
       "      <th>5</th>\n",
       "      <td>DecisionTreeRegressor</td>\n",
       "      <td>0.929386</td>\n",
       "      <td>0.418440</td>\n",
       "    </tr>\n",
       "    <tr>\n",
       "      <th>6</th>\n",
       "      <td>ExtraTreesRegressor</td>\n",
       "      <td>0.976452</td>\n",
       "      <td>0.241640</td>\n",
       "    </tr>\n",
       "    <tr>\n",
       "      <th>7</th>\n",
       "      <td>RandomForestRegressor</td>\n",
       "      <td>0.977097</td>\n",
       "      <td>0.238308</td>\n",
       "    </tr>\n",
       "    <tr>\n",
       "      <th>8</th>\n",
       "      <td>XGBRegressor</td>\n",
       "      <td>0.977676</td>\n",
       "      <td>0.235276</td>\n",
       "    </tr>\n",
       "  </tbody>\n",
       "</table>\n",
       "</div>"
      ],
      "text/plain": [
       "                       Model  R2_Score  RMSE_Score\n",
       "0           LinearRegression  0.982431    0.208717\n",
       "1        KNeighborsRegressor  0.319153    1.299311\n",
       "2          AdaBoostRegressor -0.049657    1.613289\n",
       "3                      Ridge  0.982515    0.208221\n",
       "4  GradientBoostingRegressor  0.983744    0.200769\n",
       "5      DecisionTreeRegressor  0.929386    0.418440\n",
       "6        ExtraTreesRegressor  0.976452    0.241640\n",
       "7      RandomForestRegressor  0.977097    0.238308\n",
       "8               XGBRegressor  0.977676    0.235276"
      ]
     },
     "execution_count": 109,
     "metadata": {},
     "output_type": "execute_result"
    }
   ],
   "source": [
    "final_model = pd.DataFrame(dic)\n",
    "final_model"
   ]
  },
  {
   "cell_type": "markdown",
   "id": "48275b54",
   "metadata": {},
   "source": [
    "<H1>Models with their R2_score and RMSE</H1>"
   ]
  },
  {
   "cell_type": "code",
   "execution_count": 110,
   "id": "4325795e",
   "metadata": {},
   "outputs": [
    {
     "ename": "NameError",
     "evalue": "name 'final_data' is not defined",
     "output_type": "error",
     "traceback": [
      "\u001b[1;31m---------------------------------------------------------------------------\u001b[0m",
      "\u001b[1;31mNameError\u001b[0m                                 Traceback (most recent call last)",
      "\u001b[1;32mC:\\Users\\PRADEE~1\\AppData\\Local\\Temp/ipykernel_9016/2577183218.py\u001b[0m in \u001b[0;36m<module>\u001b[1;34m\u001b[0m\n\u001b[1;32m----> 1\u001b[1;33m \u001b[0mfinal_data\u001b[0m\u001b[1;33m.\u001b[0m\u001b[0msort_values\u001b[0m\u001b[1;33m(\u001b[0m\u001b[1;34m\"RMSE_Score\"\u001b[0m\u001b[1;33m,\u001b[0m \u001b[0maxis\u001b[0m \u001b[1;33m=\u001b[0m \u001b[1;36m0\u001b[0m\u001b[1;33m,\u001b[0m \u001b[0mascending\u001b[0m \u001b[1;33m=\u001b[0m \u001b[1;32mTrue\u001b[0m\u001b[1;33m)\u001b[0m\u001b[1;33m\u001b[0m\u001b[1;33m\u001b[0m\u001b[0m\n\u001b[0m",
      "\u001b[1;31mNameError\u001b[0m: name 'final_data' is not defined"
     ]
    }
   ],
   "source": [
    "final_data.sort_values(\"RMSE_Score\", axis = 0, ascending = True)"
   ]
  },
  {
   "cell_type": "markdown",
   "id": "c063bfb2",
   "metadata": {},
   "source": [
    "<H3>From the above table GradientBoostingRegressor and Ridge Models are best model than the other model which are used for this data set</H3>"
   ]
  },
  {
   "cell_type": "code",
   "execution_count": null,
   "id": "37c3849c",
   "metadata": {},
   "outputs": [],
   "source": [
    "from sklearn.ensemble import GradientBoostingRegressor\n",
    "gbr=GradientBoostingRegressor(random_state=0)\n",
    "gbr.fit(x,y)\n"
   ]
  },
  {
   "cell_type": "code",
   "execution_count": null,
   "id": "7f306227",
   "metadata": {},
   "outputs": [],
   "source": [
    "from sklearn.preprocessing import MinMaxScaler\n",
    "scaler = MinMaxScaler()\n",
    "test_split=scaler.fit_transform(test_data)"
   ]
  },
  {
   "cell_type": "code",
   "execution_count": null,
   "id": "59cd0c63",
   "metadata": {},
   "outputs": [],
   "source": [
    "test_data.shape"
   ]
  },
  {
   "cell_type": "code",
   "execution_count": null,
   "id": "0000658c",
   "metadata": {},
   "outputs": [],
   "source": [
    "gbr.predict(test_split)"
   ]
  },
  {
   "cell_type": "code",
   "execution_count": null,
   "id": "cd396918",
   "metadata": {},
   "outputs": [],
   "source": [
    "y.shape"
   ]
  },
  {
   "cell_type": "code",
   "execution_count": null,
   "id": "afda9c06",
   "metadata": {},
   "outputs": [],
   "source": [
    "test.shape"
   ]
  },
  {
   "cell_type": "code",
   "execution_count": null,
   "id": "af738b6b",
   "metadata": {},
   "outputs": [],
   "source": [
    "final_data=pd.DataFrame({\"Name\":test[\"Name\"],\"Global sales\": gbr.predict(test_data)},columns=[\"Name\",\"Global sales\"])"
   ]
  },
  {
   "cell_type": "code",
   "execution_count": null,
   "id": "0a1c2bbb",
   "metadata": {},
   "outputs": [],
   "source": []
  },
  {
   "cell_type": "code",
   "execution_count": null,
   "id": "32334244",
   "metadata": {},
   "outputs": [],
   "source": []
  }
 ],
 "metadata": {
  "kernelspec": {
   "display_name": "Python 3 (ipykernel)",
   "language": "python",
   "name": "python3"
  },
  "language_info": {
   "codemirror_mode": {
    "name": "ipython",
    "version": 3
   },
   "file_extension": ".py",
   "mimetype": "text/x-python",
   "name": "python",
   "nbconvert_exporter": "python",
   "pygments_lexer": "ipython3",
   "version": "3.9.12"
  }
 },
 "nbformat": 4,
 "nbformat_minor": 5
}
